{
 "cells": [
  {
   "cell_type": "markdown",
   "source": [
    "# Tutorial 1: solving the power-flow equations with ExaModels\n",
    "\n",
    "In this tutorial, we detail how to use ExaModels to solve the power flow\n",
    "equations on the GPU. We start by describing the model we use, and then write\n",
    "a basic Newton solver in Julia. Then we detail how to port the algorithm to the GPU\n",
    "for faster performance\n",
    "\n",
    "We start by importing the usual packages (including JLD2, a package to import\n",
    "serialized data in Julia)"
   ],
   "metadata": {}
  },
  {
   "outputs": [
    {
     "output_type": "execute_result",
     "data": {
      "text/plain": "get_block_reordering (generic function with 1 method)"
     },
     "metadata": {},
     "execution_count": 1
    }
   ],
   "cell_type": "code",
   "source": [
    "using LinearAlgebra\n",
    "using SparseArrays\n",
    "\n",
    "using NLPModels\n",
    "using ExaModels\n",
    "\n",
    "using JLD2\n",
    "\n",
    "include(\"utils.jl\")"
   ],
   "metadata": {},
   "execution_count": 1
  },
  {
   "cell_type": "markdown",
   "source": [
    "We load the classical case9ieee instance, here generated using the MATPOWER\n",
    "file found in [matpower repo](https://github.com/MATPOWER/)."
   ],
   "metadata": {}
  },
  {
   "outputs": [
    {
     "output_type": "execute_result",
     "data": {
      "text/plain": "(bus = @NamedTuple{i::Int64, pd::Float64, gs::Float64, qd::Float64, bs::Float64, bus_type::Int64}[(i = 1, pd = 0.9, gs = 0.0, qd = 0.3, bs = 0.0, bus_type = 1), (i = 2, pd = 0.0, gs = 0.0, qd = 0.0, bs = 0.0, bus_type = 1), (i = 3, pd = 0.0, gs = 0.0, qd = 0.0, bs = 0.0, bus_type = 1), (i = 4, pd = 1.0, gs = 0.0, qd = 0.35, bs = 0.0, bus_type = 1), (i = 5, pd = 0.0, gs = 0.0, qd = 0.0, bs = 0.0, bus_type = 2), (i = 6, pd = 1.25, gs = 0.0, qd = 0.5, bs = 0.0, bus_type = 1), (i = 7, pd = 0.0, gs = 0.0, qd = 0.0, bs = 0.0, bus_type = 1), (i = 8, pd = 0.0, gs = 0.0, qd = 0.0, bs = 0.0, bus_type = 2), (i = 9, pd = 0.0, gs = 0.0, qd = 0.0, bs = 0.0, bus_type = 3)], gen = @NamedTuple{i::Int64, cost1::Float64, cost2::Float64, cost3::Float64, bus::Int64}[(i = 1, cost1 = 850.0000000000001, cost2 = 120.0, cost3 = 600.0, bus = 5), (i = 2, cost1 = 1225.0, cost2 = 100.0, cost3 = 335.0, bus = 8), (i = 3, cost1 = 1100.0, cost2 = 500.0, cost3 = 150.0, bus = 9)], arc = @NamedTuple{i::Int64, rate_a::Float64, bus::Int64}[(i = 1, rate_a = 1.5, bus = 3), (i = 2, rate_a = 3.0, bus = 8), (i = 3, rate_a = 2.5, bus = 4), (i = 4, rate_a = 2.5, bus = 7), (i = 5, rate_a = 2.5, bus = 2), (i = 6, rate_a = 2.5, bus = 6), (i = 7, rate_a = 2.5, bus = 7), (i = 8, rate_a = 1.5, bus = 1), (i = 9, rate_a = 2.5, bus = 9), (i = 10, rate_a = 1.5, bus = 4), (i = 11, rate_a = 3.0, bus = 3), (i = 12, rate_a = 2.5, bus = 7), (i = 13, rate_a = 2.5, bus = 5), (i = 14, rate_a = 2.5, bus = 1), (i = 15, rate_a = 2.5, bus = 2), (i = 16, rate_a = 2.5, bus = 6), (i = 17, rate_a = 1.5, bus = 3), (i = 18, rate_a = 2.5, bus = 2)], branch = @NamedTuple{i::Int64, j::Int64, f_idx::Int64, t_idx::Int64, f_bus::Int64, t_bus::Int64, c1::Float64, c2::Float64, c3::Float64, c4::Float64, c5::Float64, c6::Float64, c7::Float64, c8::Float64, rate_a_sq::Float64}[(i = 1, j = 1, f_idx = 1, t_idx = 10, f_bus = 3, t_bus = 4, c1 = -1.1550874808900968, c2 = 9.784270426363172, c3 = -1.1550874808900968, c4 = 9.784270426363172, c5 = 1.1550874808900968, c6 = -9.679770426363172, c7 = 1.1550874808900968, c8 = -9.679770426363172, rate_a_sq = 2.25), (i = 2, j = 1, f_idx = 2, t_idx = 11, f_bus = 8, t_bus = 3, c1 = 0.0, c2 = 17.064846416382252, c3 = -0.0, c4 = 17.064846416382252, c5 = 0.0, c6 = -17.064846416382252, c7 = 0.0, c8 = -17.064846416382252, rate_a_sq = 9.0), (i = 3, j = 1, f_idx = 3, t_idx = 12, f_bus = 4, t_bus = 7, c1 = -1.6171224732461358, c2 = 13.697978596908442, c3 = -1.6171224732461358, c4 = 13.697978596908442, c5 = 1.6171224732461358, c6 = -13.623478596908441, c7 = 1.6171224732461358, c8 = -13.623478596908441, rate_a_sq = 6.25), (i = 4, j = 1, f_idx = 4, t_idx = 13, f_bus = 7, t_bus = 5, c1 = 0.0, c2 = 16.0, c3 = -0.0, c4 = 16.0, c5 = 0.0, c6 = -16.0, c7 = 0.0, c8 = -16.0, rate_a_sq = 6.25), (i = 5, j = 1, f_idx = 5, t_idx = 14, f_bus = 2, t_bus = 1, c1 = -1.9421912487147264, c2 = 10.51068205186793, c3 = -1.9421912487147264, c4 = 10.51068205186793, c5 = 1.9421912487147264, c6 = -10.431682051867929, c7 = 1.9421912487147264, c8 = -10.431682051867929, rate_a_sq = 6.25), (i = 6, j = 1, f_idx = 6, t_idx = 15, f_bus = 6, t_bus = 2, c1 = -1.36518771331058, c2 = 11.604095563139932, c3 = -1.36518771331058, c4 = 11.604095563139932, c5 = 1.36518771331058, c6 = -11.516095563139933, c7 = 1.36518771331058, c8 = -11.516095563139933, rate_a_sq = 6.25), (i = 7, j = 1, f_idx = 7, t_idx = 16, f_bus = 7, t_bus = 6, c1 = -1.1876043792911486, c2 = 5.975134533308592, c3 = -1.1876043792911486, c4 = 5.975134533308592, c5 = 1.1876043792911486, c6 = -5.822134533308592, c7 = 1.1876043792911486, c8 = -5.822134533308592, rate_a_sq = 6.25), (i = 8, j = 1, f_idx = 8, t_idx = 17, f_bus = 1, t_bus = 3, c1 = -1.2820091384241148, c2 = 5.588244962361526, c3 = -1.2820091384241148, c4 = 5.588244962361526, c5 = 1.2820091384241148, c6 = -5.409244962361526, c7 = 1.2820091384241148, c8 = -5.409244962361526, rate_a_sq = 2.25), (i = 9, j = 1, f_idx = 9, t_idx = 18, f_bus = 9, t_bus = 2, c1 = 0.0, c2 = 17.36111111111111, c3 = -0.0, c4 = 17.36111111111111, c5 = 0.0, c6 = -17.36111111111111, c7 = 0.0, c8 = -17.36111111111111, rate_a_sq = 6.25)], ref_buses = [9], vmax = [1.1, 1.1, 1.1, 1.1, 1.1, 1.1, 1.1, 1.1, 1.1], vmin = [0.9, 0.9, 0.9, 0.9, 0.9, 0.9, 0.9, 0.9, 0.9], vm0 = [1.0, 1.0, 1.0, 1.0, 1.0, 1.0, 1.0, 1.0, 1.0], va0 = [0.0, 0.0, 0.0, 0.0, 0.0, 0.0, 0.0, 0.0, 0.0], pmax = [3.0, 2.7, 2.5], pmin = [0.1, 0.1, 0.1], qmax = [3.0, 3.0, 3.0], qmin = [-3.0, -3.0, -3.0], rate_a = [1.5, 3.0, 2.5, 2.5, 2.5, 2.5, 2.5, 1.5, 2.5, 1.5, 3.0, 2.5, 2.5, 2.5, 2.5, 2.5, 1.5, 2.5], angmax = [1.0472, 1.0472, 1.0472, 1.0472, 1.0472, 1.0472, 1.0472, 1.0472, 1.0472], angmin = [-1.0472, -1.0472, -1.0472, -1.0472, -1.0472, -1.0472, -1.0472, -1.0472, -1.0472], pg0 = [1.63, 0.85, 0.723], qg0 = [0.0654, -0.10949999999999999, 0.2703])"
     },
     "metadata": {},
     "execution_count": 2
    }
   ],
   "cell_type": "code",
   "source": [
    "DATA_DIR = \"/home/fpacaud/dev/examodels-tutorials/instances\"\n",
    "data = JLD2.load(joinpath(DATA_DIR, \"case9.jld2\"))[\"data\"]"
   ],
   "metadata": {},
   "execution_count": 2
  },
  {
   "cell_type": "markdown",
   "source": [
    "The number of buses, generators and lines are:"
   ],
   "metadata": {}
  },
  {
   "outputs": [
    {
     "output_type": "execute_result",
     "data": {
      "text/plain": "9"
     },
     "metadata": {},
     "execution_count": 3
    }
   ],
   "cell_type": "code",
   "source": [
    "nbus = length(data.bus)\n",
    "ngen = length(data.gen)\n",
    "nlines = length(data.branch)"
   ],
   "metadata": {},
   "execution_count": 3
  },
  {
   "cell_type": "markdown",
   "source": [
    "We load the indexes of the PV buses and the generators at the PV buses:"
   ],
   "metadata": {}
  },
  {
   "outputs": [
    {
     "output_type": "execute_result",
     "data": {
      "text/plain": "2-element Vector{Int64}:\n 1\n 2"
     },
     "metadata": {},
     "execution_count": 4
    }
   ],
   "cell_type": "code",
   "source": [
    "pv_buses = get_pv_buses(data)\n",
    "free_gen = get_free_generators(data)"
   ],
   "metadata": {},
   "execution_count": 4
  },
  {
   "cell_type": "markdown",
   "source": [
    "## Implementing the power flow equations with ExaModels"
   ],
   "metadata": {}
  },
  {
   "cell_type": "markdown",
   "source": [
    "When using the polar formulation, the power flow model requires the following variables:\n",
    "\n",
    "1. The voltage magnitude at nodes $v_m$\n",
    "2. The voltage angles at nodes $v_a$\n",
    "3. The active power generation $p_g$\n",
    "4. The reactive power generation $q_g$\n",
    "5. The active power flow through the lines $p$\n",
    "6. The reactive power flow through the lines $q$\n",
    "\n",
    "The variables $p$ and $q$ are dependent variables depending on the voltage magnitudes\n",
    "and angles at the adjacent nodes. The structure of the problem implies that the only\n",
    "degree-of-freedom are the voltage magnitude at the PV and REF buses, the voltage angle at the REF buses\n",
    "(usually set equal to 0) and the active power generation at the PV buses.\n",
    "\n",
    "We define the variable in ExaModels."
   ],
   "metadata": {}
  },
  {
   "outputs": [
    {
     "output_type": "execute_result",
     "data": {
      "text/plain": "Variable\n\n  x ∈ R^{18}\n"
     },
     "metadata": {},
     "execution_count": 5
    }
   ],
   "cell_type": "code",
   "source": [
    "core = ExaCore()\n",
    "va = variable(core, nbus)\n",
    "vm = variable(core, nbus; start = data.vm0)\n",
    "pg = variable(core, ngen; start=data.pg0)\n",
    "qg = variable(core, ngen; start=data.qg0)\n",
    "p = variable(core, 2*nlines) # FR and TO lines\n",
    "q = variable(core, 2*nlines) # FR and TO lines"
   ],
   "metadata": {},
   "execution_count": 5
  },
  {
   "cell_type": "markdown",
   "source": [
    "We set the initial values in `vm`, `pg` and `qg` using the setpoint values\n",
    "specified in the matpower file."
   ],
   "metadata": {}
  },
  {
   "cell_type": "markdown",
   "source": [
    "As we solve the power flow equations, the degree-of-freedom are fixed. We fix them\n",
    "in the model using a set of equality constraints:\n",
    "We iterate over the reference buses to set their voltage and to 0"
   ],
   "metadata": {}
  },
  {
   "outputs": [
    {
     "output_type": "execute_result",
     "data": {
      "text/plain": "Constraint\n\n  s.t. (...)\n       g♭ ≤ [g(x,p)]_{p ∈ P} ≤ g♯\n\n  where |P| = 1\n"
     },
     "metadata": {},
     "execution_count": 6
    }
   ],
   "cell_type": "code",
   "source": [
    "c1 = constraint(core, va[i] for i in data.ref_buses)"
   ],
   "metadata": {},
   "execution_count": 6
  },
  {
   "cell_type": "markdown",
   "source": [
    "and over the PV buses to set the voltage magnitude to the setpoint"
   ],
   "metadata": {}
  },
  {
   "outputs": [
    {
     "output_type": "execute_result",
     "data": {
      "text/plain": "Constraint\n\n  s.t. (...)\n       g♭ ≤ [g(x,p)]_{p ∈ P} ≤ g♯\n\n  where |P| = 3\n"
     },
     "metadata": {},
     "execution_count": 7
    }
   ],
   "cell_type": "code",
   "source": [
    "c01 = constraint(core, vm[i] for i in pv_buses; lcon=data.vm0[pv_buses], ucon=data.vm0[pv_buses])"
   ],
   "metadata": {},
   "execution_count": 7
  },
  {
   "cell_type": "markdown",
   "source": [
    "and finally over the generators to fix the active power generation (except at the REF buses):"
   ],
   "metadata": {}
  },
  {
   "outputs": [
    {
     "output_type": "execute_result",
     "data": {
      "text/plain": "Constraint\n\n  s.t. (...)\n       g♭ ≤ [g(x,p)]_{p ∈ P} ≤ g♯\n\n  where |P| = 2\n"
     },
     "metadata": {},
     "execution_count": 8
    }
   ],
   "cell_type": "code",
   "source": [
    "c02 = constraint(core, pg[i] for i in free_gen; lcon=data.pg0[free_gen], ucon=data.pg0[free_gen])"
   ],
   "metadata": {},
   "execution_count": 8
  },
  {
   "cell_type": "markdown",
   "source": [
    "We use the same model as in [MATPOWER](https://matpower.org/docs/manual.pdf)\n",
    "to model the transmission lines, based on the standard $π$ transmission line model in series with an ideal phase-shifting transformer.\n",
    "Using the polar formulation, the active power through the line $(i, j)$ is defined as\n",
    "$$\n",
    "  p_{i j} = g_{i i} v_{m,i}^2\n",
    "  + g_{i j} v_{m, i} v_{m, j} \\cos(v_{a, i} - v_{a, j})\n",
    "  + b_{i j} v_{m, i} v_{m, j} \\sin(v_{a, i} - v_{a, j})\n",
    "\n",
    "$$\n",
    "and the reactive power is defined similarly as\n",
    "$$\n",
    "  q_{i j} = g_{i i} v_{m,i}^2\n",
    "  + g_{i j} v_{m, i} v_{m, j} \\sin(v_{a, i} - v_{a, j})\n",
    "  - b_{i j} v_{m, i} v_{m, j} \\cos(v_{a, i} - v_{a, j})\n",
    "\n",
    "$$\n",
    "Using ExaModels, these two equations translate to the following constraints at the origin"
   ],
   "metadata": {}
  },
  {
   "outputs": [
    {
     "output_type": "execute_result",
     "data": {
      "text/plain": "Constraint\n\n  s.t. (...)\n       g♭ ≤ [g(x,p)]_{p ∈ P} ≤ g♯\n\n  where |P| = 9\n"
     },
     "metadata": {},
     "execution_count": 9
    }
   ],
   "cell_type": "code",
   "source": [
    "c2 = ExaModels.constraint(\n",
    "    core,\n",
    "    p[b.f_idx] - b.c5 * vm[b.f_bus]^2 -\n",
    "    b.c3 * (vm[b.f_bus] * vm[b.t_bus] * cos(va[b.f_bus] - va[b.t_bus])) -\n",
    "    b.c4 * (vm[b.f_bus] * vm[b.t_bus] * sin(va[b.f_bus] - va[b.t_bus])) for\n",
    "    b in data.branch\n",
    ")\n",
    "c3 = ExaModels.constraint(\n",
    "    core,\n",
    "    q[b.f_idx] +\n",
    "    b.c6 * vm[b.f_bus]^2 +\n",
    "    b.c4 * (vm[b.f_bus] * vm[b.t_bus] * cos(va[b.f_bus] - va[b.t_bus])) -\n",
    "    b.c3 * (vm[b.f_bus] * vm[b.t_bus] * sin(va[b.f_bus] - va[b.t_bus])) for\n",
    "    b in data.branch\n",
    ")"
   ],
   "metadata": {},
   "execution_count": 9
  },
  {
   "cell_type": "markdown",
   "source": [
    "Similarly, the power flow at the destination are"
   ],
   "metadata": {}
  },
  {
   "outputs": [
    {
     "output_type": "execute_result",
     "data": {
      "text/plain": "Constraint\n\n  s.t. (...)\n       g♭ ≤ [g(x,p)]_{p ∈ P} ≤ g♯\n\n  where |P| = 9\n"
     },
     "metadata": {},
     "execution_count": 10
    }
   ],
   "cell_type": "code",
   "source": [
    "c4 = ExaModels.constraint(\n",
    "    core,\n",
    "    p[b.t_idx] - b.c7 * vm[b.t_bus]^2 -\n",
    "    b.c1 * (vm[b.t_bus] * vm[b.f_bus] * cos(va[b.t_bus] - va[b.f_bus])) -\n",
    "    b.c2 * (vm[b.t_bus] * vm[b.f_bus] * sin(va[b.t_bus] - va[b.f_bus])) for\n",
    "    b in data.branch\n",
    ")"
   ],
   "metadata": {},
   "execution_count": 10
  },
  {
   "cell_type": "markdown",
   "source": [
    "Reactive power flow, TO"
   ],
   "metadata": {}
  },
  {
   "outputs": [
    {
     "output_type": "execute_result",
     "data": {
      "text/plain": "Constraint\n\n  s.t. (...)\n       g♭ ≤ [g(x,p)]_{p ∈ P} ≤ g♯\n\n  where |P| = 9\n"
     },
     "metadata": {},
     "execution_count": 11
    }
   ],
   "cell_type": "code",
   "source": [
    "c5 = ExaModels.constraint(\n",
    "    core,\n",
    "    q[b.t_idx] +\n",
    "    b.c8 * vm[b.t_bus]^2 +\n",
    "    b.c2 * (vm[b.t_bus] * vm[b.f_bus] * cos(va[b.t_bus] - va[b.f_bus])) -\n",
    "    b.c1 * (vm[b.t_bus] * vm[b.f_bus] * sin(va[b.t_bus] - va[b.f_bus])) for\n",
    "    b in data.branch\n",
    ")"
   ],
   "metadata": {},
   "execution_count": 11
  },
  {
   "cell_type": "markdown",
   "source": [
    "It remains to write the power flow balance equations at each bus.\n",
    "They are defined, for the active power flow at bus $i$\n",
    "$$\n",
    "   p_{g, i} - p_{d, i} - g_{s,i} v_{m,i}^2 = ∑_{j ∈ N(i)} p_{ij}\n",
    "\n",
    "$$\n",
    "and for the reactive power flo at bus $i$\n",
    "$$\n",
    "   q_{g, i} - q_{d, i} - b_{s,i} v_{m,i}^2 = ∑_{j ∈ N(i)} q_{ij}\n",
    "\n",
    "$$\n",
    "\n",
    "Note that both set of constraints require to sum over the power flow at the adjacent lines.\n",
    "As we have seen before, ExaModels defines the sum with a reduction over a given iterator.\n",
    "As a consequence, we will evaluate the first terms $p_{g, i} - p_{d, i} - g_{s,i} v_{m,i}^2 $\n",
    "apart from the sum $∑_{j ∈ N(i)} p_{ij}$ in the expression tree defining the active\n",
    "power flow balance. This translates to the following syntax in ExaModels. We first\n",
    "iterate over all the buses to define the first part of the expressions:"
   ],
   "metadata": {}
  },
  {
   "outputs": [
    {
     "output_type": "execute_result",
     "data": {
      "text/plain": "Constraint\n\n  s.t. (...)\n       g♭ ≤ [g(x,p)]_{p ∈ P} ≤ g♯\n\n  where |P| = 9\n"
     },
     "metadata": {},
     "execution_count": 12
    }
   ],
   "cell_type": "code",
   "source": [
    "active_flow_balance = ExaModels.constraint(core, b.pd + b.gs * vm[b.i]^2 for b in data.bus)"
   ],
   "metadata": {},
   "execution_count": 12
  },
  {
   "cell_type": "markdown",
   "source": [
    "Then we modify the constraint inplace to add the contribution of the adjacent lines"
   ],
   "metadata": {}
  },
  {
   "outputs": [
    {
     "output_type": "execute_result",
     "data": {
      "text/plain": "Constraint Augmentation\n\n  s.t. (...)\n       g♭ ≤ (...) + ∑_{p ∈ P} h(x,p) ≤ g♯\n\n  where |P| = 18\n"
     },
     "metadata": {},
     "execution_count": 13
    }
   ],
   "cell_type": "code",
   "source": [
    "ExaModels.constraint!(core, active_flow_balance, a.bus => p[a.i] for a in data.arc)"
   ],
   "metadata": {},
   "execution_count": 13
  },
  {
   "cell_type": "markdown",
   "source": [
    "and finally, we add the contribution of the generators connected to each bus:"
   ],
   "metadata": {}
  },
  {
   "outputs": [
    {
     "output_type": "execute_result",
     "data": {
      "text/plain": "Constraint Augmentation\n\n  s.t. (...)\n       g♭ ≤ (...) + ∑_{p ∈ P} h(x,p) ≤ g♯\n\n  where |P| = 3\n"
     },
     "metadata": {},
     "execution_count": 14
    }
   ],
   "cell_type": "code",
   "source": [
    "ExaModels.constraint!(core, active_flow_balance, g.bus => -pg[g.i] for g in data.gen)"
   ],
   "metadata": {},
   "execution_count": 14
  },
  {
   "cell_type": "markdown",
   "source": [
    "We follow the same procedure for the reactive power flow balance:"
   ],
   "metadata": {}
  },
  {
   "outputs": [
    {
     "output_type": "execute_result",
     "data": {
      "text/plain": "Constraint Augmentation\n\n  s.t. (...)\n       g♭ ≤ (...) + ∑_{p ∈ P} h(x,p) ≤ g♯\n\n  where |P| = 3\n"
     },
     "metadata": {},
     "execution_count": 15
    }
   ],
   "cell_type": "code",
   "source": [
    "reactive_flow_balance = ExaModels.constraint(core, b.qd - b.bs * vm[b.i]^2 for b in data.bus)\n",
    "ExaModels.constraint!(core, reactive_flow_balance, a.bus => q[a.i] for a in data.arc)\n",
    "ExaModels.constraint!(core, reactive_flow_balance, g.bus => -qg[g.i] for g in data.gen)"
   ],
   "metadata": {},
   "execution_count": 15
  },
  {
   "cell_type": "markdown",
   "source": [
    "We have now defined all the equations needed to evaluate the power flow equations!\n",
    "Note that we have defined all the expressions inside ExaModels: to evaluate them,\n",
    "we convert the ExaCore to a proper ExaModel as:"
   ],
   "metadata": {}
  },
  {
   "outputs": [
    {
     "output_type": "execute_result",
     "data": {
      "text/plain": "An ExaModel{Float64, Vector{Float64}, ...}\n\n  Problem name: Generic\n   All variables: ████████████████████ 60     All constraints: ████████████████████ 60    \n            free: ████████████████████ 60                free: ⋅⋅⋅⋅⋅⋅⋅⋅⋅⋅⋅⋅⋅⋅⋅⋅⋅⋅⋅⋅ 0     \n           lower: ⋅⋅⋅⋅⋅⋅⋅⋅⋅⋅⋅⋅⋅⋅⋅⋅⋅⋅⋅⋅ 0                lower: ⋅⋅⋅⋅⋅⋅⋅⋅⋅⋅⋅⋅⋅⋅⋅⋅⋅⋅⋅⋅ 0     \n           upper: ⋅⋅⋅⋅⋅⋅⋅⋅⋅⋅⋅⋅⋅⋅⋅⋅⋅⋅⋅⋅ 0                upper: ⋅⋅⋅⋅⋅⋅⋅⋅⋅⋅⋅⋅⋅⋅⋅⋅⋅⋅⋅⋅ 0     \n         low/upp: ⋅⋅⋅⋅⋅⋅⋅⋅⋅⋅⋅⋅⋅⋅⋅⋅⋅⋅⋅⋅ 0              low/upp: ⋅⋅⋅⋅⋅⋅⋅⋅⋅⋅⋅⋅⋅⋅⋅⋅⋅⋅⋅⋅ 0     \n           fixed: ⋅⋅⋅⋅⋅⋅⋅⋅⋅⋅⋅⋅⋅⋅⋅⋅⋅⋅⋅⋅ 0                fixed: ████████████████████ 60    \n          infeas: ⋅⋅⋅⋅⋅⋅⋅⋅⋅⋅⋅⋅⋅⋅⋅⋅⋅⋅⋅⋅ 0               infeas: ⋅⋅⋅⋅⋅⋅⋅⋅⋅⋅⋅⋅⋅⋅⋅⋅⋅⋅⋅⋅ 0     \n            nnzh: ( 79.34% sparsity)   378             linear: ⋅⋅⋅⋅⋅⋅⋅⋅⋅⋅⋅⋅⋅⋅⋅⋅⋅⋅⋅⋅ 0     \n                                                    nonlinear: ████████████████████ 60    \n                                                         nnzj: ( 93.17% sparsity)   246   \n\n"
     },
     "metadata": {},
     "execution_count": 16
    }
   ],
   "cell_type": "code",
   "source": [
    "nlp = ExaModel(core)"
   ],
   "metadata": {},
   "execution_count": 16
  },
  {
   "cell_type": "markdown",
   "source": [
    "Using NLPModels, evaluating the power flow at the initial setpoint amounts to"
   ],
   "metadata": {}
  },
  {
   "outputs": [
    {
     "output_type": "execute_result",
     "data": {
      "text/plain": "60-element Vector{Float64}:\n  0.0\n  1.0\n  1.0\n  1.0\n  1.63\n  0.85\n  0.0\n  0.0\n  0.0\n  0.0\n  ⋮\n  0.3\n  0.0\n  0.0\n  0.35\n -0.0654\n  0.5\n  0.0\n  0.10949999999999999\n -0.2703"
     },
     "metadata": {},
     "execution_count": 17
    }
   ],
   "cell_type": "code",
   "source": [
    "x0 = NLPModels.get_x0(nlp)\n",
    "c = NLPModels.cons(nlp, x0)"
   ],
   "metadata": {},
   "execution_count": 17
  },
  {
   "cell_type": "markdown",
   "source": [
    "Remember that the first equations `c1`, `c01`, and `c02` are fixing the degree-of-freedom\n",
    "to their setpoint. The power flow equations per-se are defined by the remaining equations,\n",
    "starting with the constraint `c2`:"
   ],
   "metadata": {}
  },
  {
   "outputs": [
    {
     "output_type": "execute_result",
     "data": {
      "text/plain": "6"
     },
     "metadata": {},
     "execution_count": 18
    }
   ],
   "cell_type": "code",
   "source": [
    "m_fixed = c2.offset # use offset to determine where does the power flow eq. start in the model"
   ],
   "metadata": {},
   "execution_count": 18
  },
  {
   "cell_type": "markdown",
   "source": [
    "We compute the norm-2 of the initial residual:"
   ],
   "metadata": {}
  },
  {
   "outputs": [
    {
     "output_type": "execute_result",
     "data": {
      "text/plain": "2.8281211961300383"
     },
     "metadata": {},
     "execution_count": 19
    }
   ],
   "cell_type": "code",
   "source": [
    "residual = norm(c[m_fixed+1:end])"
   ],
   "metadata": {},
   "execution_count": 19
  },
  {
   "cell_type": "markdown",
   "source": [
    "Note that if the power flow equations are satisfied, this residual should be 0, which is not\n",
    "the case here. We remember that our degree-of-freedom are:\n",
    "\n",
    "- voltage angle at ref buses;\n",
    "- voltage magnitude at PV and ref buses;\n",
    "- active power generation at PV buses;\n",
    "\n",
    "We keep the degree-of-freedom fixed, and looks for the dependent variables\n",
    "satisfying the power flow equations for this given setpoint. To do this, we will\n",
    "use Newton method over the power flow balance equations."
   ],
   "metadata": {}
  },
  {
   "cell_type": "markdown",
   "source": [
    "## Solving the power flow equations using the Newton algorithm"
   ],
   "metadata": {}
  },
  {
   "cell_type": "markdown",
   "source": [
    "We load the numbers of variables, constraints and nonzeros in the Jacobian\n",
    "(all these values are provided automatically by ExaModels):"
   ],
   "metadata": {}
  },
  {
   "outputs": [
    {
     "output_type": "execute_result",
     "data": {
      "text/plain": "246"
     },
     "metadata": {},
     "execution_count": 20
    }
   ],
   "cell_type": "code",
   "source": [
    "n = NLPModels.get_nvar(nlp)\n",
    "m = NLPModels.get_ncon(nlp)\n",
    "nnzj = NLPModels.get_nnzj(nlp)"
   ],
   "metadata": {},
   "execution_count": 20
  },
  {
   "cell_type": "markdown",
   "source": [
    "We load the index of the degree-of-freedom in our model using a utility function:"
   ],
   "metadata": {}
  },
  {
   "outputs": [
    {
     "output_type": "execute_result",
     "data": {
      "text/plain": "6-element Vector{Int64}:\n  9\n 14\n 17\n 18\n 19\n 20"
     },
     "metadata": {},
     "execution_count": 21
    }
   ],
   "cell_type": "code",
   "source": [
    "ind_dof = get_index_dof(data)"
   ],
   "metadata": {},
   "execution_count": 21
  },
  {
   "cell_type": "markdown",
   "source": [
    "and the indexes of dependent variables are automatically defined as"
   ],
   "metadata": {}
  },
  {
   "outputs": [
    {
     "output_type": "execute_result",
     "data": {
      "text/plain": "54-element Vector{Int64}:\n  1\n  2\n  3\n  4\n  5\n  6\n  7\n  8\n 10\n 11\n  ⋮\n 52\n 53\n 54\n 55\n 56\n 57\n 58\n 59\n 60"
     },
     "metadata": {},
     "execution_count": 22
    }
   ],
   "cell_type": "code",
   "source": [
    "ind_dep = setdiff(1:n, ind_dof)"
   ],
   "metadata": {},
   "execution_count": 22
  },
  {
   "cell_type": "markdown",
   "source": [
    "We start by evaluating the Jacobian of our model using NLPModels syntax.\n",
    "We get the sparsity pattern of our Jacobian in COO format directly by using:"
   ],
   "metadata": {}
  },
  {
   "outputs": [
    {
     "output_type": "execute_result",
     "data": {
      "text/plain": "([1, 2, 3, 4, 5, 6, 7, 7, 7, 7  …  58, 56, 52, 53, 57, 54, 53, 56, 59, 60], [9, 14, 17, 18, 19, 20, 25, 12, 13, 3  …  54, 55, 56, 57, 58, 59, 60, 22, 23, 24])"
     },
     "metadata": {},
     "execution_count": 23
    }
   ],
   "cell_type": "code",
   "source": [
    "Ji = similar(x0, Int, nnzj)\n",
    "Jj = similar(x0, Int, nnzj)\n",
    "NLPModels.jac_structure!(nlp, Ji, Jj)"
   ],
   "metadata": {},
   "execution_count": 23
  },
  {
   "cell_type": "markdown",
   "source": [
    "and we evaluate the nonzero values using"
   ],
   "metadata": {}
  },
  {
   "outputs": [
    {
     "output_type": "execute_result",
     "data": {
      "text/plain": "246-element Vector{Float64}:\n  1.0\n  1.0\n  1.0\n  1.0\n  1.0\n  1.0\n  1.0\n -1.1550874808900968\n  1.1550874808900968\n -9.784270426363172\n  ⋮\n  1.0\n  1.0\n  1.0\n  1.0\n  1.0\n  1.0\n -1.0\n -1.0\n -1.0"
     },
     "metadata": {},
     "execution_count": 24
    }
   ],
   "cell_type": "code",
   "source": [
    "Jx = similar(x0, nnzj)\n",
    "NLPModels.jac_coord!(nlp, x0, Jx)"
   ],
   "metadata": {},
   "execution_count": 24
  },
  {
   "cell_type": "markdown",
   "source": [
    "Julia uses the CSC format by default to store sparse matrix. We can convert\n",
    "our Jacobian to CSC directly using Julia syntax:"
   ],
   "metadata": {}
  },
  {
   "outputs": [
    {
     "output_type": "execute_result",
     "data": {
      "text/plain": "60×60 SparseArrays.SparseMatrixCSC{Float64, Int64} with 246 stored entries:\n⎡⠀⠀⠀⠀⠁⠀⠐⠀⢄⠀⠀⠀⠀⠀⠀⠀⠀⠀⠀⠀⠀⠀⠀⠀⠀⠀⠀⠀⠀⠀⎤\n⎢⠀⡤⠀⢀⠀⢠⠄⠀⡀⠑⠀⠀⢄⠀⠀⠀⠀⠀⠀⠀⠀⠀⠀⠀⠀⠀⠀⠀⠀⠀⎥\n⎢⢤⠈⢂⠃⠠⡄⠑⡘⠀⠀⠀⠀⠀⠑⢄⠀⠀⠀⠀⠀⠀⠀⠀⠀⠀⠀⠀⠀⠀⠀⎥\n⎢⠢⣂⠈⠁⠔⢔⡀⠉⠠⠀⠀⠀⠀⠀⠀⠑⠄⠀⠀⠀⠀⡀⠀⠀⠀⠀⠀⠀⠀⠀⎥\n⎢⣀⠑⠄⠎⢀⡈⠢⠰⠁⠀⠀⠀⠀⠀⠀⠀⠀⠀⠀⠀⠀⠈⠢⡀⠀⠀⠀⠀⠀⠀⎥\n⎢⢌⠄⠘⠂⡠⡡⠀⠓⢀⠀⠀⠀⠀⠀⠀⠀⠀⠀⠀⠀⠀⠀⠀⠈⠢⡀⠀⠀⠀⠀⎥\n⎢⠀⠫⡀⡔⠀⠘⢅⢠⠂⠀⠀⠀⠀⠀⠀⠀⠈⠢⡀⠀⠀⠀⠀⠀⠀⠀⠀⠀⠀⠀⎥\n⎢⡙⡀⠰⠄⢈⢃⠀⠦⠀⠀⠀⠀⠀⠀⠀⠀⠀⠀⠈⠢⡀⠀⠀⠀⠀⠀⠀⠀⠀⠀⎥\n⎢⠈⢖⠀⡠⠁⠱⡂⢀⠌⠀⠀⠀⠀⠀⠀⠀⠀⠀⠀⠀⠈⠀⠀⠀⠀⠐⢄⠀⠀⠀⎥\n⎢⠲⠀⢡⡁⠐⠆⠈⣌⠀⠀⠀⠀⠀⠀⠀⠀⠀⠀⠀⠀⠀⠀⠀⠀⠀⠀⠀⠑⢄⠀⎥\n⎢⠑⠁⠀⠀⠪⡊⠀⠀⠐⠀⠀⠀⠀⠀⡀⠠⠀⠀⠠⡀⢀⠀⠀⠀⠀⠀⠀⠀⠀⠑⎥\n⎢⠀⠀⠀⠀⠀⠈⠢⡀⠀⠄⠀⠀⠁⠂⢀⠀⠐⠁⠄⢀⠁⠀⠀⠀⠀⠀⠀⠀⠀⠀⎥\n⎢⠀⠀⠀⠀⢀⠀⠀⠈⠢⠐⠄⠀⠐⠈⠀⠁⠄⠈⠀⠀⠀⠀⠀⠀⢀⠀⠀⢀⠀⠀⎥\n⎢⠀⠀⠀⠀⠀⠑⢄⠀⠀⠀⢀⠀⠀⠀⠀⠀⠀⠀⠀⠀⠀⠂⠄⠁⠀⠠⠂⡀⠁⠊⎥\n⎣⠀⠀⠀⠀⠀⠀⠀⠑⢄⠀⠀⢄⠀⠀⠀⠀⠀⠀⠀⠀⠀⠠⠐⠈⠂⡀⠐⠀⠈⠀⎦"
     },
     "metadata": {},
     "execution_count": 25
    }
   ],
   "cell_type": "code",
   "source": [
    "J = sparse(Ji, Jj, Jx, m, n)"
   ],
   "metadata": {},
   "execution_count": 25
  },
  {
   "cell_type": "markdown",
   "source": [
    "And we can extract from the Jacobian the part associated to the power flow balance;"
   ],
   "metadata": {}
  },
  {
   "outputs": [
    {
     "output_type": "execute_result",
     "data": {
      "text/plain": "54×54 SparseArrays.SparseMatrixCSC{Float64, Int64} with 216 stored entries:\n⎡⠀⠫⡀⡔⠀⠫⢠⠀⠀⠑⢄⠀⠀⠀⠀⠀⠀⠀⠀⠀⠀⠀⠀⠀⠀⠀⠀⎤\n⎢⡙⡀⠰⠄⡙⡀⠦⠀⠀⠀⠀⠑⢄⠀⠀⠀⠀⠀⠀⠀⠀⠀⠀⠀⠀⠀⠀⎥\n⎢⠈⢖⠀⡠⠈⢖⢀⠀⠀⠀⠀⠀⠀⠁⠀⠀⠀⠀⠢⡀⠀⠀⠀⠀⠀⠀⠀⎥\n⎢⠲⠀⢡⡁⠲⠀⣌⠀⠀⠀⠀⠀⠀⠀⠀⠀⠀⠀⠀⠈⠢⡀⠀⠀⠀⠀⠀⎥\n⎢⠑⡥⠀⢀⠑⡥⠀⠀⠀⠀⠀⠀⠀⠠⡀⠀⠀⠀⠀⠀⠀⠈⠂⠀⠀⠀⠀⎥\n⎢⢤⠈⢂⠃⢤⠈⡘⠀⠀⠀⠀⠀⠀⠀⠈⠢⡀⠀⠀⠀⠀⠀⠀⠀⠀⠀⠀⎥\n⎢⠢⣂⠈⠁⠢⣂⠉⠀⠀⠀⠀⠀⠀⠀⠀⠀⠈⠢⠀⠀⠀⠀⢀⠀⠀⠀⠀⎥\n⎢⣀⠑⠄⠎⣀⠑⠰⠀⠀⠀⠀⠀⠀⠀⠀⠀⠀⠀⠀⠀⠀⠀⠀⠑⢄⠀⠀⎥\n⎢⢌⠄⠘⠂⢌⠄⠓⠀⠀⠀⠀⠀⠀⠀⠀⠀⠀⠀⠀⠀⠀⠀⠀⠀⠀⠑⢄⎥\n⎢⠀⠀⠀⠀⠑⢄⠀⠀⠀⠄⡀⠂⠈⢀⠄⠈⠂⠔⠀⠀⠀⠀⠀⠀⠀⠀⠀⎥\n⎢⠀⠀⠀⠀⠀⠀⠢⠀⠀⢀⠠⠐⠄⠀⠠⠁⠐⠀⠀⠀⠀⠀⠀⠀⠀⠀⠀⎥\n⎢⠀⠀⠀⠀⠢⡀⠀⠁⠀⠀⠀⠀⠀⠁⠀⠀⠀⠀⡀⠀⠄⠐⠀⡀⠐⠄⡠⎥\n⎢⠀⠀⠀⠀⠀⠈⢄⠐⠀⠀⠀⠀⠀⠀⠀⠀⠀⠀⠀⢁⠠⡀⠈⢀⠂⠠⠀⎥\n⎣⠀⠀⠀⠀⠀⠀⠀⠀⠑⠀⠀⠀⠀⠀⠀⠀⠀⠀⠈⠀⠀⠀⠂⠀⠀⠀⠀⎦"
     },
     "metadata": {},
     "execution_count": 26
    }
   ],
   "cell_type": "code",
   "source": [
    "G = J[m_fixed+1:end, ind_dep]"
   ],
   "metadata": {},
   "execution_count": 26
  },
  {
   "cell_type": "markdown",
   "source": [
    "This is the matrix we need in the Newton algorithm. But before implementing it, we need\n",
    "one last routine to pass the data from the vector `Jx` (in COO format) to the nonzeros\n",
    "in the CSC matrix G. To do this, we use the following trick:"
   ],
   "metadata": {}
  },
  {
   "outputs": [
    {
     "output_type": "execute_result",
     "data": {
      "text/plain": "216-element Vector{Int64}:\n  31\n  45\n  76\n  90\n 120\n 136\n 165\n 181\n  30\n  36\n   ⋮\n 239\n 167\n 240\n 172\n 241\n 177\n 242\n 182\n 243"
     },
     "metadata": {},
     "execution_count": 27
    }
   ],
   "cell_type": "code",
   "source": [
    "Jx .= 1:nnzj # store index of each coefficient in Jx\n",
    "J = sparse(Ji, Jj, Jx, m, n)  # convert the COO matrix to CSC\n",
    "G = J[m_fixed+1:end, ind_dep] # extract the submatrix associated to the power flow equations\n",
    "coo_to_csc = convert.(Int, nonzeros(G))"
   ],
   "metadata": {},
   "execution_count": 27
  },
  {
   "cell_type": "markdown",
   "source": [
    "Using this vector of indices, we can automatically pass the data from Jx to G with:"
   ],
   "metadata": {}
  },
  {
   "outputs": [
    {
     "output_type": "execute_result",
     "data": {
      "text/plain": "216-element Vector{Float64}:\n  31.0\n  45.0\n  76.0\n  90.0\n 120.0\n 136.0\n 165.0\n 181.0\n  30.0\n  36.0\n   ⋮\n 239.0\n 167.0\n 240.0\n 172.0\n 241.0\n 177.0\n 242.0\n 182.0\n 243.0"
     },
     "metadata": {},
     "execution_count": 28
    }
   ],
   "cell_type": "code",
   "source": [
    "nonzeros(G) .= Jx[coo_to_csc]"
   ],
   "metadata": {},
   "execution_count": 28
  },
  {
   "cell_type": "markdown",
   "source": [
    "We are now in place to solve the power flow equations. We start by importing KLU:"
   ],
   "metadata": {}
  },
  {
   "outputs": [],
   "cell_type": "code",
   "source": [
    "using KLU"
   ],
   "metadata": {},
   "execution_count": 29
  },
  {
   "cell_type": "markdown",
   "source": [
    "and we initialize the Newton algorithm by evaluating the model at the initial point:"
   ],
   "metadata": {}
  },
  {
   "outputs": [
    {
     "output_type": "execute_result",
     "data": {
      "text/plain": "216-element Vector{Float64}:\n  10.51068205186793\n  -5.588244962361526\n  -1.9421912487147264\n   1.2820091384241148\n -10.51068205186793\n   5.588244962361526\n   1.9421912487147264\n  -1.2820091384241148\n -10.51068205186793\n  11.604095563139932\n   ⋮\n   1.0\n   1.0\n   1.0\n   1.0\n   1.0\n   1.0\n   1.0\n   1.0\n   1.0"
     },
     "metadata": {},
     "execution_count": 30
    }
   ],
   "cell_type": "code",
   "source": [
    "x = copy(x0)\n",
    "c = similar(x0, m)\n",
    "d = similar(x0, length(ind_dep))     # descent direction\n",
    "residual = view(c, m_fixed+1:m)      # get subvector associated to the power flow residual\n",
    "\n",
    "NLPModels.cons!(nlp, x, c)\n",
    "NLPModels.jac_coord!(nlp, x, Jx)\n",
    "nonzeros(G) .= Jx[coo_to_csc]"
   ],
   "metadata": {},
   "execution_count": 30
  },
  {
   "cell_type": "markdown",
   "source": [
    "We compute the symbolic factorization using the direct solver KLU directly as"
   ],
   "metadata": {}
  },
  {
   "outputs": [
    {
     "output_type": "execute_result",
     "data": {
      "text/plain": "KLU.KLUFactorization{Float64, Int64}\nL factor:\n54×54 SparseArrays.SparseMatrixCSC{Float64, Int64} with 148 stored entries:\n⎡⠑⢄⠀⠀⠀⠀⠀⠀⠀⠀⠀⠀⠀⠀⠀⠀⠀⠀⠀⠀⠀⠀⠀⠀⠀⠀⠀⎤\n⎢⠀⠀⠑⢄⠀⠀⠀⠀⠀⠀⠀⠀⠀⠀⠀⠀⠀⠀⠀⠀⠀⠀⠀⠀⠀⠀⠀⎥\n⎢⠀⠀⠀⠀⠑⢄⠀⠀⠀⠀⠀⠀⠀⠀⠀⠀⠀⠀⠀⠀⠀⠀⠀⠀⠀⠀⠀⎥\n⎢⠀⠀⠀⠀⠀⠀⠑⢄⠀⠀⠀⠀⠀⠀⠀⠀⠀⠀⠀⠀⠀⠀⠀⠀⠀⠀⠀⎥\n⎢⠀⠀⠀⠀⠀⠀⠀⠀⠑⢄⠀⠀⠀⠀⠀⠀⠀⠀⠀⠀⠀⠀⠀⠀⠀⠀⠀⎥\n⎢⠀⠀⠀⠀⠀⠀⠀⠀⠀⠀⠑⢄⠀⠀⠀⠀⠀⠀⠀⠀⠀⠀⠀⠀⠀⠀⠀⎥\n⎢⠀⠀⠀⠀⠀⠀⠀⠀⠀⠀⠀⠀⠑⣄⠀⠀⠀⠀⠀⠀⠀⠀⠀⠀⠀⠀⠀⎥\n⎢⠀⠀⠀⠀⠀⠀⠀⠀⠀⠀⠀⠀⠤⢀⡱⣄⠀⠀⠀⠀⠀⠀⠀⠀⠀⠀⠀⎥\n⎢⠀⠀⠀⠀⠀⠀⠀⠀⠀⠀⠀⠀⠀⠀⠀⠀⢑⣄⠀⠀⠀⠀⠀⠀⠀⠀⠀⎥\n⎢⠀⠀⠀⠀⠀⠀⠀⠀⠀⠀⢀⡀⠀⠀⠀⣀⠀⠀⠑⢄⠀⠀⠀⠀⠀⠀⠀⎥\n⎢⠀⠀⠀⠀⠀⠀⠀⠀⠀⠀⠀⠈⠀⠀⠀⠉⠁⢐⢒⢚⣳⣄⠀⠀⠀⠀⠀⎥\n⎢⠀⠀⠀⠀⠀⠀⠒⠒⢂⠉⡀⠀⠀⠀⠀⠀⠀⠀⠀⠀⢈⣉⣳⣄⠀⠀⠀⎥\n⎢⠀⠀⠀⠀⢁⡈⠂⠐⠂⠀⠀⠀⠀⠀⠀⣉⠀⠀⠀⢈⣉⣉⣿⣿⣷⣄⠀⎥\n⎣⠀⠀⠀⠀⠀⠀⠀⠀⠀⠀⠀⠀⠀⠀⠀⠀⠀⠀⠀⠀⠀⠀⠀⠀⠀⠀⠑⎦\nU factor:\n54×54 SparseArrays.SparseMatrixCSC{Float64, Int64} with 208 stored entries:\n⎡⠑⢄⠀⠀⠀⠀⠀⠀⠀⠀⠀⠀⠀⠀⠀⠀⠀⠀⠀⠀⠀⠀⠀⠀⠀⠀⠀⎤\n⎢⠀⠀⠑⢄⠀⠀⠀⠀⠀⠀⠀⠀⠀⠀⠀⠀⠀⠀⠀⠀⠀⠀⠀⠀⠀⠀⠀⎥\n⎢⠀⠀⠀⠀⠑⢎⠀⠀⠀⠀⠀⠀⠀⠀⠀⠀⠀⠀⠀⠀⠀⠀⢠⠀⣧⢠⠀⎥\n⎢⠀⠀⠀⠀⠀⠀⠑⢎⡀⠀⠀⠀⠀⠀⠀⠀⠀⠀⠀⠀⠀⠀⠨⡀⢼⠢⠀⎥\n⎢⠀⠀⠀⠀⠀⠀⠀⠀⠑⢤⠂⠀⠀⠀⠀⠀⠀⠀⠀⠀⢀⢀⡉⢸⠈⠀⠀⎥\n⎢⠀⠀⠀⠀⠀⠀⠀⠀⠀⠀⠑⢆⠀⠀⠀⣤⠀⠀⠀⢠⡎⠈⠁⠈⠀⠀⠀⎥\n⎢⠀⠀⠀⠀⠀⠀⠀⠀⠀⠀⠀⠀⠙⢄⡈⣷⠀⠀⠀⠀⠀⠀⠀⠀⠀⠀⠀⎥\n⎢⠀⠀⠀⠀⠀⠀⠀⠀⠀⠀⠀⠀⠀⠀⠑⢿⠀⠀⠀⢠⡄⠀⠀⠀⡇⢸⠀⎥\n⎢⠀⠀⠀⠀⠀⠀⠀⠀⠀⠀⠀⠀⠀⠀⠀⠀⠑⢦⢐⠈⢹⢨⡀⢀⠀⠀⠀⎥\n⎢⠀⠀⠀⠀⠀⠀⠀⠀⠀⠀⠀⠀⠀⠀⠀⠀⠀⠀⠑⢵⣾⢱⠀⠀⡀⢀⠀⎥\n⎢⠀⠀⠀⠀⠀⠀⠀⠀⠀⠀⠀⠀⠀⠀⠀⠀⠀⠀⠀⠀⠙⢾⡆⢰⡇⢸⠀⎥\n⎢⠀⠀⠀⠀⠀⠀⠀⠀⠀⠀⠀⠀⠀⠀⠀⠀⠀⠀⠀⠀⠀⠀⠙⢾⣿⣾⠀⎥\n⎢⠀⠀⠀⠀⠀⠀⠀⠀⠀⠀⠀⠀⠀⠀⠀⠀⠀⠀⠀⠀⠀⠀⠀⠀⠙⢿⠀⎥\n⎣⠀⠀⠀⠀⠀⠀⠀⠀⠀⠀⠀⠀⠀⠀⠀⠀⠀⠀⠀⠀⠀⠀⠀⠀⠀⠀⠑⎦\nF factor:\n54×54 SparseArrays.SparseMatrixCSC{Float64, Int64} with 16 stored entries:\n⎡⠈⠠⠀⠀⠀⠀⡀⠀⠀⠀⠀⠀⠀⠀⠀⠀⠀⠐⠀⠀⠐⠐⢀⠀⢀⠀⠀⎤\n⎢⠀⠀⠈⠠⠀⠀⠀⠀⠀⠀⠀⠀⠀⠀⠀⣒⠀⠀⠀⠀⠀⠀⠀⠀⠀⠀⠀⎥\n⎢⠀⠀⠀⠀⠀⠀⠀⠀⠀⠀⠀⠀⠀⠀⠀⠀⠀⠀⠀⠀⠀⠀⠀⠀⠀⠀⠀⎥\n⎢⠀⠀⠀⠀⠀⠀⠀⠀⠀⠀⠀⠀⠀⠀⠀⠀⠀⠀⠀⠀⠀⠀⠀⠀⠀⠀⠀⎥\n⎢⠀⠀⠀⠀⠀⠀⠀⠀⠀⠀⠀⠀⠀⠀⠀⠀⠀⠀⠀⠀⠀⠀⠀⠀⠀⠀⠀⎥\n⎢⠀⠀⠀⠀⠀⠀⠀⠀⠀⠀⠀⠀⠀⠀⠀⠀⠀⠀⠀⠀⠀⠀⠀⠀⠀⠀⠀⎥\n⎢⠀⠀⠀⠀⠀⠀⠀⠀⠀⠀⠀⠀⠀⠀⠀⠀⠀⠀⠀⠀⠀⠀⠀⠀⠀⠀⠀⎥\n⎢⠀⠀⠀⠀⠀⠀⠀⠀⠀⠀⠀⠀⠀⠀⠀⠀⠀⠀⠀⠀⠀⠀⠀⠀⠀⠀⠀⎥\n⎢⠀⠀⠀⠀⠀⠀⠀⠀⠀⠀⠀⠀⠀⠀⠀⠀⠀⠀⠀⠀⠀⠀⠀⠀⠀⠀⠀⎥\n⎢⠀⠀⠀⠀⠀⠀⠀⠀⠀⠀⠀⠀⠀⠀⠀⠀⠀⠀⠀⠀⠀⠀⠀⠀⠀⠀⠀⎥\n⎢⠀⠀⠀⠀⠀⠀⠀⠀⠀⠀⠀⠀⠀⠀⠀⠀⠀⠀⠀⠀⠀⠀⠀⠀⠀⠀⢀⎥\n⎢⠀⠀⠀⠀⠀⠀⠀⠀⠀⠀⠀⠀⠀⠀⠀⠀⠀⠀⠀⠀⠀⠀⠀⠀⠀⠀⠀⎥\n⎢⠀⠀⠀⠀⠀⠀⠀⠀⠀⠀⠀⠀⠀⠀⠀⠀⠀⠀⠀⠀⠀⠀⠀⠀⠀⠀⠂⎥\n⎣⠀⠀⠀⠀⠀⠀⠀⠀⠀⠀⠀⠀⠀⠀⠀⠀⠀⠀⠀⠀⠀⠀⠀⠀⠀⠀⠀⎦"
     },
     "metadata": {},
     "execution_count": 31
    }
   ],
   "cell_type": "code",
   "source": [
    "ls = klu(G)"
   ],
   "metadata": {},
   "execution_count": 31
  },
  {
   "cell_type": "markdown",
   "source": [
    "The Newton algorithm writes:"
   ],
   "metadata": {}
  },
  {
   "outputs": [
    {
     "name": "stdout",
     "output_type": "stream",
     "text": [
      "[ Info: Solving the power flow equations with Newton\n",
      "[ Info: It: 1 residual: 2.8281211961300383\n",
      "[ Info: It: 2 residual: 0.16641541672388815\n",
      "[ Info: It: 3 residual: 0.003123124093240259\n",
      "[ Info: It: 4 residual: 7.791517827071406e-7\n",
      "[ Info: It: 5 residual: 6.401499746556268e-14\n"
     ]
    }
   ],
   "cell_type": "code",
   "source": [
    "max_iter = 10\n",
    "tol = 1e-8\n",
    "\n",
    "@info \"Solving the power flow equations with Newton\"\n",
    "for i in 1:max_iter\n",
    "    @info \"It: $(i) residual: $(norm(residual))\"\n",
    "    if norm(residual) <= tol\n",
    "        break\n",
    "    end\n",
    "    NLPModels.jac_coord!(nlp, x, Jx) # Update values in Jacobian\n",
    "    nonzeros(G) .= Jx[coo_to_csc]\n",
    "    klu!(ls, G)                      # Update numerical factorization\n",
    "    ldiv!(d, ls, residual)           # Compute Newton direction using a backsolve\n",
    "    x[ind_dep] .-= d\n",
    "    NLPModels.cons!(nlp, x, c)\n",
    "end"
   ],
   "metadata": {},
   "execution_count": 32
  },
  {
   "cell_type": "markdown",
   "source": [
    "We observe that the Newton algorithm has converged in 5 iterations! The final\n",
    "residual is not exactly 0 but is close enough (close to 1e-14).\n",
    "We can recover the solution directly by looking at the values in the vector `x`:"
   ],
   "metadata": {}
  },
  {
   "outputs": [
    {
     "output_type": "execute_result",
     "data": {
      "text/plain": "9-element Vector{Float64}:\n 0.9754721770850534\n 0.9870068523919056\n 1.0033754364528011\n 0.9856448817249474\n 1.0\n 0.9576210404299045\n 0.9961852458090705\n 1.0\n 1.0"
     },
     "metadata": {},
     "execution_count": 33
    }
   ],
   "cell_type": "code",
   "source": [
    "va_sol = x[1:nbus]\n",
    "vm_sol = x[nbus+1:2*nbus]"
   ],
   "metadata": {},
   "execution_count": 33
  },
  {
   "cell_type": "markdown",
   "source": [
    "We implement the generation of the model in a function `powerflow_model`,\n",
    "and the Newton algorithm in another function `solve_power_flow`:"
   ],
   "metadata": {}
  },
  {
   "outputs": [
    {
     "output_type": "execute_result",
     "data": {
      "text/plain": "analyse_sparsity (generic function with 2 methods)"
     },
     "metadata": {},
     "execution_count": 34
    }
   ],
   "cell_type": "code",
   "source": [
    "include(\"powerflow.jl\")"
   ],
   "metadata": {},
   "execution_count": 34
  },
  {
   "cell_type": "markdown",
   "source": [
    "You can test the performance of Newton on various cases using the following code:"
   ],
   "metadata": {}
  },
  {
   "outputs": [
    {
     "name": "stdout",
     "output_type": "stream",
     "text": [
      "[ Info: It: 1 residual: 114.94453623771956\n",
      "[ Info: It: 2 residual: 9.77587903056736\n",
      "[ Info: It: 3 residual: 0.7405168825291231\n",
      "[ Info: It: 4 residual: 0.006184429522506654\n",
      "[ Info: It: 5 residual: 1.721686601775372e-6\n",
      "[ Info: It: 6 residual: 6.625913959067062e-12\n"
     ]
    }
   ],
   "cell_type": "code",
   "source": [
    "data = JLD2.load(joinpath(DATA_DIR, \"pglib_opf_case1354_pegase.jld2\"))[\"data\"]\n",
    "ngen = length(data.gen)\n",
    "nbus = length(data.bus)\n",
    "nlines = length(data.branch)\n",
    "\n",
    "nlp = powerflow_model(data)\n",
    "results = solve_power_flow(nlp)\n",
    "nothing"
   ],
   "metadata": {},
   "execution_count": 35
  },
  {
   "cell_type": "markdown",
   "source": [
    "---\n",
    "\n",
    "*This notebook was generated using [Literate.jl](https://github.com/fredrikekre/Literate.jl).*"
   ],
   "metadata": {}
  }
 ],
 "nbformat_minor": 3,
 "metadata": {
  "language_info": {
   "file_extension": ".jl",
   "mimetype": "application/julia",
   "name": "julia",
   "version": "1.11.5"
  },
  "kernelspec": {
   "name": "julia-1.11",
   "display_name": "Julia 1.11.5",
   "language": "julia"
  }
 },
 "nbformat": 4
}
