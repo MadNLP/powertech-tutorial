{
 "cells": [
  {
   "cell_type": "markdown",
   "source": [
    "# Tutorial 1: solving the power-flow equations\n",
    "\n",
    "In this tutorial, we detail how to use ExaModels to solve the power flow\n",
    "equations on the GPU. We start by describing the model we use, and then write\n",
    "a basic Newton solver in Julia. Then we detail how to port the algorithm to the GPU\n",
    "for faster performance\n",
    "\n",
    "We start by importing the usual packages (including JLD2, a package to import\n",
    "serialized data in Julia)"
   ],
   "metadata": {}
  },
  {
   "outputs": [],
   "cell_type": "code",
   "source": [
    "using LinearAlgebra\n",
    "using SparseArrays\n",
    "\n",
    "using NLPModels\n",
    "using ExaModels\n",
    "\n",
    "using JLD2\n",
    "\n",
    "include(\"utils.jl\")"
   ],
   "metadata": {},
   "execution_count": null
  },
  {
   "cell_type": "markdown",
   "source": [
    "We load the classical case9ieee instance, here generated using the MATPOWER\n",
    "file found in [matpower repo](https://github.com/MATPOWER/)."
   ],
   "metadata": {}
  },
  {
   "outputs": [],
   "cell_type": "code",
   "source": [
    "data = JLD2.load(\"instances/case9.jld2\")[\"data\"]"
   ],
   "metadata": {},
   "execution_count": null
  },
  {
   "cell_type": "markdown",
   "source": [
    "The number of buses, generators and lines are:"
   ],
   "metadata": {}
  },
  {
   "outputs": [],
   "cell_type": "code",
   "source": [
    "nbus = length(data.bus)\n",
    "ngen = length(data.gen)\n",
    "nlines = length(data.branch)"
   ],
   "metadata": {},
   "execution_count": null
  },
  {
   "cell_type": "markdown",
   "source": [
    "We load the indexes of the PV buses and the generators at the PV buses:"
   ],
   "metadata": {}
  },
  {
   "outputs": [],
   "cell_type": "code",
   "source": [
    "pv_buses = get_pv_buses(data)\n",
    "free_gen = get_free_generators(data)"
   ],
   "metadata": {},
   "execution_count": null
  },
  {
   "cell_type": "markdown",
   "source": [
    "## Implementing the power flow equations with ExaModels"
   ],
   "metadata": {}
  },
  {
   "cell_type": "markdown",
   "source": [
    "When using the polar formulation, the power flow model requires the following variables:\n",
    "\n",
    "1. The voltage magnitude at nodes $v_m$\n",
    "2. The voltage angles at nodes $v_a$\n",
    "3. The active power generation $p_g$\n",
    "4. The reactive power generation $q_g$\n",
    "5. The active power flow through the lines $p$\n",
    "6. The reactive power flow through the lines $q$\n",
    "\n",
    "The variables $p$ and $q$ are dependent variables depending on the voltage magnitudes\n",
    "and angles at the adjacent nodes. The structure of the problem implies that the only\n",
    "degree-of-freedom are the voltage magnitude at the PV and REF buses, the voltage angle at the REF buses\n",
    "(usually set equal to 0) and the active power generation at the PV buses.\n",
    "\n",
    "We define the variable in ExaModels."
   ],
   "metadata": {}
  },
  {
   "outputs": [],
   "cell_type": "code",
   "source": [
    "core = ExaCore()\n",
    "va = variable(core, nbus)\n",
    "vm = variable(core, nbus; start = data.vm0)\n",
    "pg = variable(core, ngen; start=data.pg0)\n",
    "qg = variable(core, ngen; start=data.qg0)\n",
    "p = variable(core, 2*nlines) # FR and TO lines\n",
    "q = variable(core, 2*nlines) # FR and TO lines"
   ],
   "metadata": {},
   "execution_count": null
  },
  {
   "cell_type": "markdown",
   "source": [
    "We set the initial values in `vm`, `pg` and `qg` using the setpoint values\n",
    "specified in the matpower file."
   ],
   "metadata": {}
  },
  {
   "cell_type": "markdown",
   "source": [
    "As we solve the power flow equations, the degree-of-freedom are fixed. We fix them\n",
    "in the model using a set of equality constraints:\n",
    "We iterate over the reference buses to set their voltage and to 0"
   ],
   "metadata": {}
  },
  {
   "outputs": [],
   "cell_type": "code",
   "source": [
    "c1 = constraint(core, va[i] for i in data.ref_buses)"
   ],
   "metadata": {},
   "execution_count": null
  },
  {
   "cell_type": "markdown",
   "source": [
    "and over the PV buses to set the voltage magnitude to the setpoint"
   ],
   "metadata": {}
  },
  {
   "outputs": [],
   "cell_type": "code",
   "source": [
    "c01 = constraint(core, vm[i] for i in pv_buses; lcon=data.vm0[pv_buses], ucon=data.vm0[pv_buses])"
   ],
   "metadata": {},
   "execution_count": null
  },
  {
   "cell_type": "markdown",
   "source": [
    "and finally over the generators to fix the active power generation (except at the REF buses):"
   ],
   "metadata": {}
  },
  {
   "outputs": [],
   "cell_type": "code",
   "source": [
    "c02 = constraint(core, pg[i] for i in free_gen; lcon=data.pg0[free_gen], ucon=data.pg0[free_gen])"
   ],
   "metadata": {},
   "execution_count": null
  },
  {
   "cell_type": "markdown",
   "source": [
    "We use the same model as in [MATPOWER](https://matpower.org/docs/manual.pdf)\n",
    "to model the transmission lines, based on the standard $π$ transmission line model in series with an ideal phase-shifting transformer.\n",
    "Using the polar formulation, the active power through the line $(i, j)$ is defined as\n",
    "$$\n",
    "  p_{i j} = g_{i i} v_{m,i}^2\n",
    "  + g_{i j} v_{m, i} v_{m, j} \\cos(v_{a, i} - v_{a, j})\n",
    "  + b_{i j} v_{m, i} v_{m, j} \\sin(v_{a, i} - v_{a, j})\n",
    "\n",
    "$$\n",
    "and the reactive power is defined similarly as\n",
    "$$\n",
    "  q_{i j} = g_{i i} v_{m,i}^2\n",
    "  + g_{i j} v_{m, i} v_{m, j} \\sin(v_{a, i} - v_{a, j})\n",
    "  - b_{i j} v_{m, i} v_{m, j} \\cos(v_{a, i} - v_{a, j})\n",
    "\n",
    "$$\n",
    "Using ExaModels, these two equations translate to the following constraints at the origin"
   ],
   "metadata": {}
  },
  {
   "outputs": [],
   "cell_type": "code",
   "source": [
    "c2 = ExaModels.constraint(\n",
    "    core,\n",
    "    p[b.f_idx] - b.c5 * vm[b.f_bus]^2 -\n",
    "    b.c3 * (vm[b.f_bus] * vm[b.t_bus] * cos(va[b.f_bus] - va[b.t_bus])) -\n",
    "    b.c4 * (vm[b.f_bus] * vm[b.t_bus] * sin(va[b.f_bus] - va[b.t_bus])) for\n",
    "    b in data.branch\n",
    ")\n",
    "c3 = ExaModels.constraint(\n",
    "    core,\n",
    "    q[b.f_idx] +\n",
    "    b.c6 * vm[b.f_bus]^2 +\n",
    "    b.c4 * (vm[b.f_bus] * vm[b.t_bus] * cos(va[b.f_bus] - va[b.t_bus])) -\n",
    "    b.c3 * (vm[b.f_bus] * vm[b.t_bus] * sin(va[b.f_bus] - va[b.t_bus])) for\n",
    "    b in data.branch\n",
    ")"
   ],
   "metadata": {},
   "execution_count": null
  },
  {
   "cell_type": "markdown",
   "source": [
    "Similarly, the power flow at the destination are"
   ],
   "metadata": {}
  },
  {
   "outputs": [],
   "cell_type": "code",
   "source": [
    "c4 = ExaModels.constraint(\n",
    "    core,\n",
    "    p[b.t_idx] - b.c7 * vm[b.t_bus]^2 -\n",
    "    b.c1 * (vm[b.t_bus] * vm[b.f_bus] * cos(va[b.t_bus] - va[b.f_bus])) -\n",
    "    b.c2 * (vm[b.t_bus] * vm[b.f_bus] * sin(va[b.t_bus] - va[b.f_bus])) for\n",
    "    b in data.branch\n",
    ")"
   ],
   "metadata": {},
   "execution_count": null
  },
  {
   "cell_type": "markdown",
   "source": [
    "Reactive power flow, TO"
   ],
   "metadata": {}
  },
  {
   "outputs": [],
   "cell_type": "code",
   "source": [
    "c5 = ExaModels.constraint(\n",
    "    core,\n",
    "    q[b.t_idx] +\n",
    "    b.c8 * vm[b.t_bus]^2 +\n",
    "    b.c2 * (vm[b.t_bus] * vm[b.f_bus] * cos(va[b.t_bus] - va[b.f_bus])) -\n",
    "    b.c1 * (vm[b.t_bus] * vm[b.f_bus] * sin(va[b.t_bus] - va[b.f_bus])) for\n",
    "    b in data.branch\n",
    ")"
   ],
   "metadata": {},
   "execution_count": null
  },
  {
   "cell_type": "markdown",
   "source": [
    "It remains to write the power flow balance equations at each bus.\n",
    "They are defined, for the active power flow at bus $i$\n",
    "$$\n",
    "   p_{g, i} - p_{d, i} - g_{s,i} v_{m,i}^2 = ∑_{j ∈ N(i)} p_{ij}\n",
    "\n",
    "$$\n",
    "and for the reactive power flo at bus $i$\n",
    "$$\n",
    "   q_{g, i} - q_{d, i} - b_{s,i} v_{m,i}^2 = ∑_{j ∈ N(i)} q_{ij}\n",
    "\n",
    "$$\n",
    "\n",
    "Note that both set of constraints require to sum over the power flow at the adjacent lines.\n",
    "As we have seen before, ExaModels defines the sum with a reduction over a given iterator.\n",
    "As a consequence, we will evaluate the first terms $p_{g, i} - p_{d, i} - g_{s,i} v_{m,i}^2 $\n",
    "apart from the sum $∑_{j ∈ N(i)} p_{ij}$ in the expression tree defining the active\n",
    "power flow balance. This translates to the following syntax in ExaModels. We first\n",
    "iterate over all the buses to define the first part of the expressions:"
   ],
   "metadata": {}
  },
  {
   "outputs": [],
   "cell_type": "code",
   "source": [
    "active_flow_balance = ExaModels.constraint(core, b.pd + b.gs * vm[b.i]^2 for b in data.bus)"
   ],
   "metadata": {},
   "execution_count": null
  },
  {
   "cell_type": "markdown",
   "source": [
    "Then we modify the constraint inplace to add the contribution of the adjacent lines"
   ],
   "metadata": {}
  },
  {
   "outputs": [],
   "cell_type": "code",
   "source": [
    "ExaModels.constraint!(core, active_flow_balance, a.bus => p[a.i] for a in data.arc)"
   ],
   "metadata": {},
   "execution_count": null
  },
  {
   "cell_type": "markdown",
   "source": [
    "and finally, we add the contribution of the generators connected to each bus:"
   ],
   "metadata": {}
  },
  {
   "outputs": [],
   "cell_type": "code",
   "source": [
    "ExaModels.constraint!(core, active_flow_balance, g.bus => -pg[g.i] for g in data.gen)"
   ],
   "metadata": {},
   "execution_count": null
  },
  {
   "cell_type": "markdown",
   "source": [
    "We follow the same procedure for the reactive power flow balance:"
   ],
   "metadata": {}
  },
  {
   "outputs": [],
   "cell_type": "code",
   "source": [
    "reactive_flow_balance = ExaModels.constraint(core, b.qd - b.bs * vm[b.i]^2 for b in data.bus)\n",
    "ExaModels.constraint!(core, reactive_flow_balance, a.bus => q[a.i] for a in data.arc)\n",
    "ExaModels.constraint!(core, reactive_flow_balance, g.bus => -qg[g.i] for g in data.gen)"
   ],
   "metadata": {},
   "execution_count": null
  },
  {
   "cell_type": "markdown",
   "source": [
    "We have now defined all the equations needed to evaluate the power flow equations!\n",
    "Note that we have defined all the expressions inside ExaModels: to evaluate them,\n",
    "we convert the ExaCore to a proper ExaModel as:"
   ],
   "metadata": {}
  },
  {
   "outputs": [],
   "cell_type": "code",
   "source": [
    "nlp = ExaModel(core)"
   ],
   "metadata": {},
   "execution_count": null
  },
  {
   "cell_type": "markdown",
   "source": [
    "Using NLPModels, evaluating the power flow at the initial setpoint amounts to"
   ],
   "metadata": {}
  },
  {
   "outputs": [],
   "cell_type": "code",
   "source": [
    "x0 = NLPModels.get_x0(nlp)\n",
    "c = NLPModels.cons(nlp, x0)"
   ],
   "metadata": {},
   "execution_count": null
  },
  {
   "cell_type": "markdown",
   "source": [
    "Remember that the first equations `c1`, `c01`, and `c02` are fixing the degree-of-freedom\n",
    "to their setpoint. The power flow equations per-se are defined by the remaining equations,\n",
    "starting with the constraint `c2`:"
   ],
   "metadata": {}
  },
  {
   "outputs": [],
   "cell_type": "code",
   "source": [
    "m_fixed = c2.offset # use offset to determine where does the power flow eq. start in the model"
   ],
   "metadata": {},
   "execution_count": null
  },
  {
   "cell_type": "markdown",
   "source": [
    "We compute the norm-2 of the initial residual:"
   ],
   "metadata": {}
  },
  {
   "outputs": [],
   "cell_type": "code",
   "source": [
    "residual = norm(c[m_fixed+1:end])"
   ],
   "metadata": {},
   "execution_count": null
  },
  {
   "cell_type": "markdown",
   "source": [
    "Note that if the power flow equations are satisfied, this residual should be 0, which is not\n",
    "the case here. We remember that our degree-of-freedom are:\n",
    "\n",
    "- voltage angle at ref buses;\n",
    "- voltage magnitude at PV and ref buses;\n",
    "- active power generation at PV buses;\n",
    "\n",
    "We keep the degree-of-freedom fixed, and looks for the dependent variables\n",
    "satisfying the power flow equations for this given setpoint. To do this, we will\n",
    "use Newton method over the power flow balance equations."
   ],
   "metadata": {}
  },
  {
   "cell_type": "markdown",
   "source": [
    "## Solving the power flow equations using Newton"
   ],
   "metadata": {}
  },
  {
   "cell_type": "markdown",
   "source": [
    "We load the numbers of variables, constraints and nonzeroes in the Jacobian\n",
    "(all these values are provided automatically by ExaModels):"
   ],
   "metadata": {}
  },
  {
   "outputs": [],
   "cell_type": "code",
   "source": [
    "n = NLPModels.get_nvar(nlp)\n",
    "m = NLPModels.get_ncon(nlp)\n",
    "nnzj = NLPModels.get_nnzj(nlp)"
   ],
   "metadata": {},
   "execution_count": null
  },
  {
   "cell_type": "markdown",
   "source": [
    "We load the index of the degree-of-freedom in our model using a utility function:"
   ],
   "metadata": {}
  },
  {
   "outputs": [],
   "cell_type": "code",
   "source": [
    "ind_dof = get_index_dof(data)"
   ],
   "metadata": {},
   "execution_count": null
  },
  {
   "cell_type": "markdown",
   "source": [
    "and the indexes of dependent variables are automatically defined as"
   ],
   "metadata": {}
  },
  {
   "outputs": [],
   "cell_type": "code",
   "source": [
    "ind_dep = setdiff(1:n, ind_dof)"
   ],
   "metadata": {},
   "execution_count": null
  },
  {
   "cell_type": "markdown",
   "source": [
    "We start by evaluating the Jacobian of our model using NLPModels syntax.\n",
    "We get the sparsity pattern of our Jacobian in COO format directly by using:"
   ],
   "metadata": {}
  },
  {
   "outputs": [],
   "cell_type": "code",
   "source": [
    "Ji = similar(x0, Int, nnzj)\n",
    "Jj = similar(x0, Int, nnzj)\n",
    "NLPModels.jac_structure!(nlp, Ji, Jj)"
   ],
   "metadata": {},
   "execution_count": null
  },
  {
   "cell_type": "markdown",
   "source": [
    "and we evaluate the nonzero values using"
   ],
   "metadata": {}
  },
  {
   "outputs": [],
   "cell_type": "code",
   "source": [
    "Jx = similar(x0, nnzj)\n",
    "NLPModels.jac_coord!(nlp, x0, Jx)"
   ],
   "metadata": {},
   "execution_count": null
  },
  {
   "cell_type": "markdown",
   "source": [
    "Julia uses the CSC format by default to store sparse matrix. We can convert\n",
    "our Jacobian to CSC directly using Julia syntax:"
   ],
   "metadata": {}
  },
  {
   "outputs": [],
   "cell_type": "code",
   "source": [
    "J = sparse(Ji, Jj, Jx, m, n)"
   ],
   "metadata": {},
   "execution_count": null
  },
  {
   "cell_type": "markdown",
   "source": [
    "And we can extract from the Jacobian the part associated to the power flow balance;"
   ],
   "metadata": {}
  },
  {
   "outputs": [],
   "cell_type": "code",
   "source": [
    "G = J[m_fixed+1:end, ind_dep]"
   ],
   "metadata": {},
   "execution_count": null
  },
  {
   "cell_type": "markdown",
   "source": [
    "This is the matrix we need in the Newton algorithm. But before implementing it, we need\n",
    "one last routine to pass the data from the vector `Jx` (in COO format) to the nonzeroes\n",
    "in the CSC matrix G. To do this, we use the following trick:"
   ],
   "metadata": {}
  },
  {
   "outputs": [],
   "cell_type": "code",
   "source": [
    "Jx .= 1:nnzj # store index of each coefficient in Jx\n",
    "J = sparse(Ji, Jj, Jx, m, n)  # convert the COO matrix to CSC\n",
    "G = J[m_fixed+1:end, ind_dep] # extract the submatrix associated to the power flow equations\n",
    "coo_to_csc = convert.(Int, nonzeros(G))"
   ],
   "metadata": {},
   "execution_count": null
  },
  {
   "cell_type": "markdown",
   "source": [
    "Using this vector of indices, we can automatically pass the data from Jx to G with:"
   ],
   "metadata": {}
  },
  {
   "outputs": [],
   "cell_type": "code",
   "source": [
    "nonzeros(G) .= Jx[coo_to_csc]"
   ],
   "metadata": {},
   "execution_count": null
  },
  {
   "cell_type": "markdown",
   "source": [
    "We are now in place to solve the power flow equations. We start by importing KLU:"
   ],
   "metadata": {}
  },
  {
   "outputs": [],
   "cell_type": "code",
   "source": [
    "using KLU"
   ],
   "metadata": {},
   "execution_count": null
  },
  {
   "cell_type": "markdown",
   "source": [
    "and we initialize the Newton algorithm by evaluating the model at the initial point:"
   ],
   "metadata": {}
  },
  {
   "outputs": [],
   "cell_type": "code",
   "source": [
    "x = copy(x0)\n",
    "c = similar(x0, m)\n",
    "d = similar(x0, length(ind_dep))     # descent direction\n",
    "residual = view(c, m_fixed+1:m)      # get subvector associated to the power flow residual\n",
    "\n",
    "NLPModels.cons!(nlp, x, c)\n",
    "NLPModels.jac_coord!(nlp, x, Jx)\n",
    "nonzeros(G) .= Jx[coo_to_csc]"
   ],
   "metadata": {},
   "execution_count": null
  },
  {
   "cell_type": "markdown",
   "source": [
    "We compute the symbolic factorization using the direct solver KLU directly as"
   ],
   "metadata": {}
  },
  {
   "outputs": [],
   "cell_type": "code",
   "source": [
    "ls = klu(G)"
   ],
   "metadata": {},
   "execution_count": null
  },
  {
   "cell_type": "markdown",
   "source": [
    "The Newton algorithm writes:"
   ],
   "metadata": {}
  },
  {
   "outputs": [],
   "cell_type": "code",
   "source": [
    "max_iter = 10\n",
    "tol = 1e-8\n",
    "\n",
    "@info \"Solving the power flow equations with Newton\"\n",
    "for i in 1:max_iter\n",
    "    @info \"It: $(i) residual: $(norm(residual))\""
   ],
   "metadata": {},
   "execution_count": null
  },
  {
   "cell_type": "markdown",
   "source": [
    "Stopping criterion"
   ],
   "metadata": {}
  },
  {
   "outputs": [],
   "cell_type": "code",
   "source": [
    "    if norm(residual) <= tol\n",
    "        break\n",
    "    end"
   ],
   "metadata": {},
   "execution_count": null
  },
  {
   "cell_type": "markdown",
   "source": [
    "Update values in Jacobian"
   ],
   "metadata": {}
  },
  {
   "outputs": [],
   "cell_type": "code",
   "source": [
    "    NLPModels.jac_coord!(nlp, x, Jx)\n",
    "    nonzeros(G) .= Jx[coo_to_csc]"
   ],
   "metadata": {},
   "execution_count": null
  },
  {
   "cell_type": "markdown",
   "source": [
    "Update numerical factorization"
   ],
   "metadata": {}
  },
  {
   "outputs": [],
   "cell_type": "code",
   "source": [
    "    klu!(ls, G)"
   ],
   "metadata": {},
   "execution_count": null
  },
  {
   "cell_type": "markdown",
   "source": [
    "Compute Newton direction using a backsolve"
   ],
   "metadata": {}
  },
  {
   "outputs": [],
   "cell_type": "code",
   "source": [
    "    ldiv!(d, ls, residual)"
   ],
   "metadata": {},
   "execution_count": null
  },
  {
   "cell_type": "markdown",
   "source": [
    "Update dependent variables"
   ],
   "metadata": {}
  },
  {
   "outputs": [],
   "cell_type": "code",
   "source": [
    "    x[ind_dep] .-= d"
   ],
   "metadata": {},
   "execution_count": null
  },
  {
   "cell_type": "markdown",
   "source": [
    "Refresh residuals"
   ],
   "metadata": {}
  },
  {
   "outputs": [],
   "cell_type": "code",
   "source": [
    "    NLPModels.cons!(nlp, x, c)\n",
    "end"
   ],
   "metadata": {},
   "execution_count": null
  },
  {
   "cell_type": "markdown",
   "source": [
    "We observe that the Newton algorithm has converged in 5 iterations! The final\n",
    "residual is not exactly 0 but is close enough (close to 1e-14).\n",
    "We can recover the solution directly by looking at the values in the vector `x`:"
   ],
   "metadata": {}
  },
  {
   "outputs": [],
   "cell_type": "code",
   "source": [
    "va_sol = x[1:nbus]\n",
    "vm_sol = x[nbus+1:2*nbus]"
   ],
   "metadata": {},
   "execution_count": null
  },
  {
   "cell_type": "markdown",
   "source": [
    "We implement the generation of the model in a function `powerflow_model`,\n",
    "and the Newton algorithm in another function `solve_power_flow`:"
   ],
   "metadata": {}
  },
  {
   "outputs": [],
   "cell_type": "code",
   "source": [
    "include(\"powerflow.jl\")"
   ],
   "metadata": {},
   "execution_count": null
  },
  {
   "cell_type": "markdown",
   "source": [
    "You can test the performance of Newton on various cases using the following code:"
   ],
   "metadata": {}
  },
  {
   "outputs": [],
   "cell_type": "code",
   "source": [
    "data = JLD2.load(\"instances/pglib_opf_case1354_pegase.jld2\")[\"data\"]\n",
    "ngen = length(data.gen)\n",
    "nbus = length(data.bus)\n",
    "nlines = length(data.branch)\n",
    "\n",
    "nlp = powerflow_model(data)\n",
    "results = solve_power_flow(nlp)\n",
    "vm = results[nbus+1:2*nbus]"
   ],
   "metadata": {},
   "execution_count": null
  },
  {
   "cell_type": "markdown",
   "source": [
    "---\n",
    "\n",
    "*This notebook was generated using [Literate.jl](https://github.com/fredrikekre/Literate.jl).*"
   ],
   "metadata": {}
  }
 ],
 "nbformat_minor": 3,
 "metadata": {
  "language_info": {
   "file_extension": ".jl",
   "mimetype": "application/julia",
   "name": "julia",
   "version": "1.11.5"
  },
  "kernelspec": {
   "name": "julia-1.11",
   "display_name": "Julia 1.11.5",
   "language": "julia"
  }
 },
 "nbformat": 4
}
