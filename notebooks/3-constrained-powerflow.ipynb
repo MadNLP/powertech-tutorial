{
 "cells": [
  {
   "cell_type": "markdown",
   "source": [
    "# Tutorial 3: solving constrained power flow with MadNLP\n",
    "\n",
    "In this third tutorial, we look at a variant of the power flow equations,\n",
    "where we add operational constraints on the different variables: we add\n",
    "bounds on the voltage magnitude, the active and the reactive power genenerations.\n",
    "Our goal is to identify if a solution of the power flow equations exists within these bounds."
   ],
   "metadata": {}
  },
  {
   "cell_type": "markdown",
   "source": [
    "We start by importing the usual packages:"
   ],
   "metadata": {}
  },
  {
   "outputs": [
    {
     "output_type": "execute_result",
     "data": {
      "text/plain": "get_block_reordering (generic function with 1 method)"
     },
     "metadata": {},
     "execution_count": 1
    }
   ],
   "cell_type": "code",
   "source": [
    "using LinearAlgebra\n",
    "using SparseArrays\n",
    "\n",
    "using NLPModels\n",
    "using ExaModels\n",
    "\n",
    "using JLD2\n",
    "\n",
    "include(\"utils.jl\")"
   ],
   "metadata": {},
   "execution_count": 1
  },
  {
   "cell_type": "markdown",
   "source": [
    "We import a small instance:"
   ],
   "metadata": {}
  },
  {
   "outputs": [
    {
     "output_type": "execute_result",
     "data": {
      "text/plain": "9"
     },
     "metadata": {},
     "execution_count": 2
    }
   ],
   "cell_type": "code",
   "source": [
    "DATA_DIR = \"/home/fpacaud/dev/examodels-tutorials/instances\"\n",
    "data = JLD2.load(joinpath(DATA_DIR, \"case9.jld2\"))[\"data\"]\n",
    "ngen = length(data.gen)\n",
    "nbus = length(data.bus)\n",
    "nlines = length(data.branch)"
   ],
   "metadata": {},
   "execution_count": 2
  },
  {
   "cell_type": "markdown",
   "source": [
    "## Constrained power flow\n",
    "On the contrary to the tutorial 2, we consider again the power flow equations with a batch size equal to 1.\n",
    "The bounds are easy to define in ExaModels, as we can pass them to the model directly when we are calling the function `variable` using the keyword `lvar` and `uvar`. We use the bounds specified in the\n",
    "data. As a results, the variables are initialized as follows:"
   ],
   "metadata": {}
  },
  {
   "outputs": [
    {
     "output_type": "execute_result",
     "data": {
      "text/plain": "Variable\n\n  x ∈ R^{18}\n"
     },
     "metadata": {},
     "execution_count": 3
    }
   ],
   "cell_type": "code",
   "source": [
    "core = ExaModels.ExaCore()\n",
    "\n",
    "va = ExaModels.variable(core, nbus)\n",
    "vm = ExaModels.variable(core, nbus; start = data.vm0, lvar = data.vmin, uvar = data.vmax)\n",
    "pg = ExaModels.variable(core, ngen;  start=data.pg0, lvar = data.pmin, uvar = data.pmax)\n",
    "qg = ExaModels.variable(core, ngen;  start=data.qg0, lvar = data.qmin, uvar = data.qmax)\n",
    "p = ExaModels.variable(core, 2*nlines)\n",
    "q = ExaModels.variable(core, 2*nlines)"
   ],
   "metadata": {},
   "execution_count": 3
  },
  {
   "cell_type": "markdown",
   "source": [
    "As we are bounding the feasible set, we are not guaranteed to find a solution\n",
    "of the power flow constraints satisfying the bound constraints. As a result, we\n",
    "relax the power flow constraints and penalize their violation in the objective using a ℓ1 penalty.\n",
    "If we denote by $g(x) = 0$ the original power flow equations, the relaxed model writes\n",
    "$$\n",
    "g(x) = σ_p - σ_n  \\; , \\; σ_p ≥ 0 \\; , \\; σ_n ≥ 0\n",
    "$$\n",
    "and we define the objective as $f(σ) = 1^⊤ σ_P + 1^⊤ σ_N$."
   ],
   "metadata": {}
  },
  {
   "cell_type": "markdown",
   "source": [
    "The definition of the variables $σ$ and the objective translates with ExaModels as"
   ],
   "metadata": {}
  },
  {
   "outputs": [
    {
     "output_type": "execute_result",
     "data": {
      "text/plain": "Objective\n\n  min (...) + ∑_{p ∈ P} f(x,p)\n\n  where |P| = 9\n"
     },
     "metadata": {},
     "execution_count": 4
    }
   ],
   "cell_type": "code",
   "source": [
    "spp = ExaModels.variable(core, nbus; lvar=0.0)\n",
    "spn = ExaModels.variable(core, nbus; lvar=0.0)\n",
    "sqp = ExaModels.variable(core, nbus; lvar=0.0)\n",
    "sqn = ExaModels.variable(core, nbus; lvar=0.0)\n",
    "\n",
    "objective = ExaModels.objective(\n",
    "    core,\n",
    "    spp[b.i] + spn[b.i] + sqp[b.i] + sqn[b.i] for b in data.bus\n",
    ")"
   ],
   "metadata": {},
   "execution_count": 4
  },
  {
   "cell_type": "markdown",
   "source": [
    "We implement the full power flow model with bounds in the following function:"
   ],
   "metadata": {}
  },
  {
   "outputs": [
    {
     "output_type": "execute_result",
     "data": {
      "text/plain": "constrained_power_flow_model (generic function with 1 method)"
     },
     "metadata": {},
     "execution_count": 5
    }
   ],
   "cell_type": "code",
   "source": [
    "function constrained_power_flow_model(\n",
    "    data;\n",
    "    backend = nothing,\n",
    "    T = Float64,\n",
    "    kwargs...\n",
    ")\n",
    "    ngen = length(data.gen)\n",
    "    nbus = length(data.bus)\n",
    "    nlines = length(data.branch)\n",
    "\n",
    "    pv_buses = get_pv_buses(data)\n",
    "    free_gen = get_free_generators(data)\n",
    "\n",
    "    w = ExaModels.ExaCore(T; backend = backend)\n",
    "\n",
    "    va = ExaModels.variable(w, nbus)\n",
    "    vm = ExaModels.variable(\n",
    "        w,\n",
    "        nbus;\n",
    "        start = data.vm0,\n",
    "        lvar = data.vmin,\n",
    "        uvar = data.vmax,\n",
    "    )\n",
    "    pg = ExaModels.variable(w, ngen;  start=data.pg0, lvar = data.pmin, uvar = data.pmax)\n",
    "    qg = ExaModels.variable(w, ngen;  start=data.qg0, lvar = data.qmin, uvar = data.qmax)\n",
    "    p = ExaModels.variable(w, 2*nlines)\n",
    "    q = ExaModels.variable(w, 2*nlines)\n",
    "    # slack variables\n",
    "    spp = ExaModels.variable(w, nbus; lvar=0.0)\n",
    "    spn = ExaModels.variable(w, nbus; lvar=0.0)\n",
    "    sqp = ExaModels.variable(w, nbus; lvar=0.0)\n",
    "    sqn = ExaModels.variable(w, nbus; lvar=0.0)\n",
    "\n",
    "    # Fix variables to setpoint\n",
    "    c1 = ExaModels.constraint(w, va[i] for i in data.ref_buses)\n",
    "    c01 = ExaModels.constraint(w, vm[i] for i in pv_buses; lcon=data.vm0[pv_buses], ucon=data.vm0[pv_buses])\n",
    "    c02 = ExaModels.constraint(w, pg[i] for i in free_gen; lcon=data.pg0[free_gen], ucon=data.pg0[free_gen])\n",
    "\n",
    "    # Active power flow, FR\n",
    "    c2 = ExaModels.constraint(\n",
    "        w,\n",
    "        p[b.f_idx] - b.c5 * vm[b.f_bus]^2 -\n",
    "        b.c3 * (vm[b.f_bus] * vm[b.t_bus] * cos(va[b.f_bus] - va[b.t_bus])) -\n",
    "        b.c4 * (vm[b.f_bus] * vm[b.t_bus] * sin(va[b.f_bus] - va[b.t_bus])) for\n",
    "        b in data.branch\n",
    "    )\n",
    "    # Reactive power flow, FR\n",
    "    c3 = ExaModels.constraint(\n",
    "        w,\n",
    "        q[b.f_idx] +\n",
    "        b.c6 * vm[b.f_bus]^2 +\n",
    "        b.c4 * (vm[b.f_bus] * vm[b.t_bus] * cos(va[b.f_bus] - va[b.t_bus])) -\n",
    "        b.c3 * (vm[b.f_bus] * vm[b.t_bus] * sin(va[b.f_bus] - va[b.t_bus])) for\n",
    "        b in data.branch\n",
    "    )\n",
    "    # Active power flow, TO\n",
    "    c4 = ExaModels.constraint(\n",
    "        w,\n",
    "        p[b.t_idx] - b.c7 * vm[b.t_bus]^2 -\n",
    "        b.c1 * (vm[b.t_bus] * vm[b.f_bus] * cos(va[b.t_bus] - va[b.f_bus])) -\n",
    "        b.c2 * (vm[b.t_bus] * vm[b.f_bus] * sin(va[b.t_bus] - va[b.f_bus])) for\n",
    "        b in data.branch\n",
    "    )\n",
    "    # Reactive power flow, TO\n",
    "    c5 = ExaModels.constraint(\n",
    "        w,\n",
    "        q[b.t_idx] +\n",
    "        b.c8 * vm[b.t_bus]^2 +\n",
    "        b.c2 * (vm[b.t_bus] * vm[b.f_bus] * cos(va[b.t_bus] - va[b.f_bus])) -\n",
    "        b.c1 * (vm[b.t_bus] * vm[b.f_bus] * sin(va[b.t_bus] - va[b.f_bus])) for\n",
    "        b in data.branch\n",
    "    )\n",
    "\n",
    "    # Power flow constraints\n",
    "    c9 = ExaModels.constraint(w, b.pd + b.gs * vm[b.i]^2 - spp[b.i] + spn[b.i] for b in data.bus)\n",
    "    c10 = ExaModels.constraint(w, b.qd - b.bs * vm[b.i]^2 - sqp[b.i] + sqn[b.i] for b in data.bus)\n",
    "    c11 = ExaModels.constraint!(w, c9, a.bus => p[a.i] for a in data.arc)\n",
    "    c12 = ExaModels.constraint!(w, c10, a.bus => q[a.i] for a in data.arc)\n",
    "    c13 = ExaModels.constraint!(w, c9, g.bus => -pg[g.i] for g in data.gen)\n",
    "    c14 = ExaModels.constraint!(w, c10, g.bus => -qg[g.i] for g in data.gen)\n",
    "\n",
    "    o = ExaModels.objective(\n",
    "        w,\n",
    "        spp[b.i] + spn[b.i] + sqp[b.i] + sqn[b.i] for b in data.bus\n",
    "    )\n",
    "    return ExaModels.ExaModel(w; kwargs...)\n",
    "end"
   ],
   "metadata": {},
   "execution_count": 5
  },
  {
   "cell_type": "markdown",
   "source": [
    "## Solution with the interior-point solver MadNLP\n",
    "\n",
    "We generate a new model using the function `constrained_power_flow_model`:"
   ],
   "metadata": {}
  },
  {
   "outputs": [],
   "cell_type": "code",
   "source": [
    "nlp = constrained_power_flow_model(data)\n",
    "nothing"
   ],
   "metadata": {},
   "execution_count": 6
  },
  {
   "cell_type": "markdown",
   "source": [
    "As we have incorporated bounds to our optimization variables, the constrained power flow\n",
    "is not solvable using the Newton method we used in the two previous tutorials. However,\n",
    "it is good candidate for an interior-point method, as implemented in MadNLP."
   ],
   "metadata": {}
  },
  {
   "cell_type": "markdown",
   "source": [
    "MadNLP takes directly as input any model following the `AbstractNLPModel` abstraction, as it is\n",
    "the case with our model `nlp`. As a consequence, solving the constrained power flow equations simply amounts to\n",
    "call the function `madnlp`:"
   ],
   "metadata": {}
  },
  {
   "outputs": [
    {
     "name": "stdout",
     "output_type": "stream",
     "text": [
      "This is MadNLP version v0.8.7, running with umfpack\n",
      "\n",
      "Number of nonzeros in constraint Jacobian............:      282\n",
      "Number of nonzeros in Lagrangian Hessian.............:      378\n",
      "\n",
      "Total number of variables............................:       96\n",
      "                     variables with only lower bounds:       36\n",
      "                variables with lower and upper bounds:       15\n",
      "                     variables with only upper bounds:        0\n",
      "Total number of equality constraints.................:       60\n",
      "Total number of inequality constraints...............:        0\n",
      "        inequality constraints with only lower bounds:        0\n",
      "   inequality constraints with lower and upper bounds:        0\n",
      "        inequality constraints with only upper bounds:        0\n",
      "\n",
      "iter    objective    inf_pr   inf_du lg(mu)  ||d||  lg(rg) alpha_du alpha_pr  ls\n",
      "   0  3.5999964e-01 1.63e+00 0.00e+00  -1.0 0.00e+00    -  0.00e+00 0.00e+00   0\n",
      "   1  3.5999993e+00 8.40e-02 3.48e-01  -1.0 1.63e+00    -  9.65e-01 1.00e+00h  1\n",
      "   2  6.8717434e-01 1.12e-03 3.39e-02  -1.7 2.19e-01    -  9.79e-01 1.00e+00h  1\n",
      "   3  1.0529729e-01 2.89e-04 2.92e-02  -2.5 9.13e-02    -  8.99e-01 1.00e+00h  1\n",
      "   4  1.0176107e-01 1.06e-05 1.22e-04  -2.5 2.05e-02    -  1.00e+00 1.00e+00h  1\n",
      "   5  3.8859643e-04 3.74e-08 9.24e-05  -5.7 2.86e-03    -  1.00e+00 9.97e-01h  1\n",
      "   6  6.6057503e-05 7.04e-10 1.12e-09  -5.7 1.59e-04    -  1.00e+00 1.00e+00h  1\n",
      "   7 -3.2727273e-07 3.55e-15 9.25e-15  -9.0 1.84e-06    -  1.00e+00 1.00e+00h  1\n",
      "\n",
      "Number of Iterations....: 7\n",
      "\n",
      "                                   (scaled)                 (unscaled)\n",
      "Objective...............:  -3.2727272524260281e-07   -3.2727272524260281e-07\n",
      "Dual infeasibility......:   9.2533699276651886e-15    9.2533699276651886e-15\n",
      "Constraint violation....:   3.5527136788005009e-15    3.5527136788005009e-15\n",
      "Complementarity.........:   9.1358752630263181e-10    9.1358752630263181e-10\n",
      "Overall NLP error.......:   9.1358752630263181e-10    9.1358752630263181e-10\n",
      "\n",
      "Number of objective function evaluations             = 8\n",
      "Number of objective gradient evaluations             = 8\n",
      "Number of constraint evaluations                     = 8\n",
      "Number of constraint Jacobian evaluations            = 8\n",
      "Number of Lagrangian Hessian evaluations             = 7\n",
      "Total wall-clock secs in solver (w/o fun. eval./lin. alg.)  =  0.001\n",
      "Total wall-clock secs in linear solver                      =  0.002\n",
      "Total wall-clock secs in NLP function evaluations           =  0.000\n",
      "Total wall-clock secs                                       =  0.002\n",
      "\n",
      "EXIT: Optimal Solution Found (tol = 1.0e-08).\n"
     ]
    }
   ],
   "cell_type": "code",
   "source": [
    "using MadNLP\n",
    "results = madnlp(nlp)\n",
    "nothing"
   ],
   "metadata": {},
   "execution_count": 7
  },
  {
   "cell_type": "markdown",
   "source": [
    "We observe that MadNLP converges, and final objective is close to 0, meaning that\n",
    "the power flow is feasible within the bounds. The solution returned by MadNLP is the\n",
    "same as those returned previously by our custom Newton solver:"
   ],
   "metadata": {}
  },
  {
   "outputs": [
    {
     "output_type": "execute_result",
     "data": {
      "text/plain": "9-element Vector{Float64}:\n 0.9754721770836192\n 0.987006852390764\n 1.0033754364523084\n 0.9856448817242128\n 1.0\n 0.9576210404281067\n 0.996185245808383\n 1.0\n 1.0"
     },
     "metadata": {},
     "execution_count": 8
    }
   ],
   "cell_type": "code",
   "source": [
    "vm = results.solution[nbus+1:2*nbus]"
   ],
   "metadata": {},
   "execution_count": 8
  },
  {
   "cell_type": "markdown",
   "source": [
    "Observe that this is not the case on most instances. E.g., MadNLP converges to\n",
    "a solution with a nonzero objective on `89pegase`, meaning this instance does not have a solution\n",
    "of the power flow equations within the bounds."
   ],
   "metadata": {}
  },
  {
   "outputs": [
    {
     "name": "stdout",
     "output_type": "stream",
     "text": [
      "This is MadNLP version v0.8.7, running with umfpack\n",
      "\n",
      "Number of nonzeros in constraint Jacobian............:     5622\n",
      "Number of nonzeros in Lagrangian Hessian.............:     8578\n",
      "\n",
      "Total number of variables............................:     1398\n",
      "                     variables with only lower bounds:      356\n",
      "                variables with lower and upper bounds:      113\n",
      "                     variables with only upper bounds:        0\n",
      "Total number of equality constraints.................:     1042\n",
      "Total number of inequality constraints...............:        0\n",
      "        inequality constraints with only lower bounds:        0\n",
      "   inequality constraints with lower and upper bounds:        0\n",
      "        inequality constraints with only upper bounds:        0\n",
      "\n",
      "iter    objective    inf_pr   inf_du lg(mu)  ||d||  lg(rg) alpha_du alpha_pr  ls\n",
      "   0  3.5599964e+00 1.33e+01 0.00e+00  -1.0 0.00e+00    -  0.00e+00 0.00e+00   0\n",
      "   1  7.3631612e+00 1.18e+01 1.02e+00  -1.0 1.30e+01    -  5.94e-02 1.19e-01h  1\n",
      "   2  1.7804291e+01 7.69e+00 2.21e+00  -1.0 1.15e+01    -  1.54e-01 3.46e-01h  1\n",
      "   3  3.4138828e+01 1.38e+00 1.56e+01  -1.0 7.48e+00    -  4.96e-01 8.20e-01h  1\n",
      "   4  3.8964234e+01 4.02e-01 4.76e+00  -1.0 1.44e+00    -  9.03e-01 7.09e-01h  1\n",
      "   5  4.1805753e+01 1.08e-03 2.22e-01  -1.0 4.86e-01    -  1.00e+00 1.00e+00h  1\n",
      "   6  1.8088828e+01 8.02e-04 2.19e-01  -1.7 4.83e-01    -  7.04e-01 8.58e-01h  1\n",
      "   7  1.4659573e+01 2.11e-03 5.22e-02  -1.7 6.97e-01    -  1.00e+00 8.65e-01h  1\n",
      "   8  1.0155645e+01 8.89e-04 7.16e-02  -2.5 4.15e-01    -  8.22e-01 7.24e-01h  1\n",
      "   9  8.4935420e+00 8.01e-04 1.27e-01  -2.5 2.66e-01    -  4.18e-01 1.00e+00h  1\n",
      "iter    objective    inf_pr   inf_du lg(mu)  ||d||  lg(rg) alpha_du alpha_pr  ls\n",
      "  10  8.4218185e+00 8.39e-04 4.53e-02  -2.5 3.39e-01    -  1.00e+00 1.00e+00h  1\n",
      "  11  8.4241228e+00 1.81e-06 8.72e-05  -2.5 2.96e-02    -  1.00e+00 1.00e+00h  1\n",
      "  12  7.4545132e+00 6.81e-04 2.01e-02  -5.7 3.23e-01    -  6.33e-01 9.85e-01h  1\n",
      "  13  7.4335829e+00 1.03e-04 4.17e-03  -5.7 2.85e-01    -  8.54e-01 1.00e+00h  1\n",
      "  14  7.4326151e+00 1.58e-05 2.35e-04  -5.7 1.07e-01    -  9.65e-01 1.00e+00h  1\n",
      "  15  7.4325086e+00 4.85e-06 5.23e-05  -5.7 6.94e-02    -  1.00e+00 1.00e+00h  1\n",
      "  16  7.4324952e+00 7.41e-07 7.53e-06  -5.7 1.33e-02    -  1.00e+00 1.00e+00h  1\n",
      "  17  7.4318388e+00 8.08e-08 1.62e-05  -8.6 2.51e-02    -  9.06e-01 1.00e+00h  1\n",
      "  18  7.4318384e+00 1.31e-09 2.10e-07  -8.6 1.63e-02    -  1.00e+00 1.00e+00h  1\n",
      "  19  7.4318384e+00 3.67e-10 6.61e-08  -8.6 8.63e-03    -  1.00e+00 1.00e+00h  1\n",
      "iter    objective    inf_pr   inf_du lg(mu)  ||d||  lg(rg) alpha_du alpha_pr  ls\n",
      "  20  7.4318384e+00 8.53e-11 1.54e-08  -8.6 4.16e-03    -  1.00e+00 1.00e+00h  1\n",
      "  21  7.4318379e+00 2.33e-11 4.23e-09  -9.0 2.18e-03    -  1.00e+00 1.00e+00h  1\n",
      "\n",
      "Number of Iterations....: 21\n",
      "\n",
      "                                   (scaled)                 (unscaled)\n",
      "Objective...............:   7.4318378577662187e+00    7.4318378577662187e+00\n",
      "Dual infeasibility......:   4.2301090221470037e-09    4.2301090221470037e-09\n",
      "Constraint violation....:   2.3340544430539012e-11    2.3340544430539012e-11\n",
      "Complementarity.........:   3.0228554039960585e-09    3.0228554039960585e-09\n",
      "Overall NLP error.......:   4.2301090221470037e-09    4.2301090221470037e-09\n",
      "\n",
      "Number of objective function evaluations             = 22\n",
      "Number of objective gradient evaluations             = 22\n",
      "Number of constraint evaluations                     = 22\n",
      "Number of constraint Jacobian evaluations            = 22\n",
      "Number of Lagrangian Hessian evaluations             = 21\n",
      "Total wall-clock secs in solver (w/o fun. eval./lin. alg.)  =  0.005\n",
      "Total wall-clock secs in linear solver                      =  0.114\n",
      "Total wall-clock secs in NLP function evaluations           =  0.001\n",
      "Total wall-clock secs                                       =  0.120\n",
      "\n",
      "EXIT: Optimal Solution Found (tol = 1.0e-08).\n"
     ]
    }
   ],
   "cell_type": "code",
   "source": [
    "data = JLD2.load(joinpath(DATA_DIR, \"pglib_opf_case89_pegase.jld2\"))[\"data\"]\n",
    "nlp = constrained_power_flow_model(data)\n",
    "results = madnlp(nlp)\n",
    "nothing"
   ],
   "metadata": {},
   "execution_count": 9
  },
  {
   "cell_type": "markdown",
   "source": [
    "## Deporting the solution on the GPU\n",
    "Like our previous custom Newton algorithm, MadNLP supports by default offloading the solution of the\n",
    "model on the GPU, using the extension MadNLPGPU:"
   ],
   "metadata": {}
  },
  {
   "outputs": [],
   "cell_type": "code",
   "source": [
    "using CUDA\n",
    "using MadNLPGPU"
   ],
   "metadata": {},
   "execution_count": 10
  },
  {
   "cell_type": "markdown",
   "source": [
    "Once MadNLPGPU is imported, you just have to instantiate the previous model also on the GPU to solve\n",
    "it using MadNLP:"
   ],
   "metadata": {}
  },
  {
   "outputs": [
    {
     "name": "stdout",
     "output_type": "stream",
     "text": [
      "This is MadNLP version v0.8.7, running with cuDSS v0.4.0\n",
      "\n",
      "Number of nonzeros in constraint Jacobian............:     5622\n",
      "Number of nonzeros in Lagrangian Hessian.............:     8578\n",
      "\n",
      "Total number of variables............................:     1398\n",
      "                     variables with only lower bounds:      356\n",
      "                variables with lower and upper bounds:      113\n",
      "                     variables with only upper bounds:        0\n",
      "Total number of equality constraints.................:     1042\n",
      "Total number of inequality constraints...............:        0\n",
      "        inequality constraints with only lower bounds:        0\n",
      "   inequality constraints with lower and upper bounds:        0\n",
      "        inequality constraints with only upper bounds:        0\n",
      "\n",
      "iter    objective    inf_pr   inf_du lg(mu)  ||d||  lg(rg) alpha_du alpha_pr  ls\n",
      "   0  3.5599964e+00 1.33e+01 0.00e+00  -1.0 0.00e+00    -  0.00e+00 0.00e+00   0\n",
      "   1  3.5600088e+00 1.33e+01 9.34e-03  -1.0 1.31e+01    -  5.37e-02 3.85e-07h  1\n",
      "   2  7.2635292e+00 1.19e+01 3.00e-03  -1.0 1.30e+01  -4.0 1.16e-01 1.07e-01h  1\n",
      "   3  1.7864401e+01 8.00e+00 8.07e-04  -1.0 1.16e+01  -4.5 2.39e-01 3.27e-01h  1\n",
      "   4  2.4966909e+01 5.26e+00 5.46e-04  -1.0 7.80e+00  -5.0 5.49e-01 3.43e-01h  1\n",
      "   5  3.8668928e+01 6.08e-01 5.72e-05  -1.0 5.10e+00  -5.4 8.48e-01 8.84e-01h  1\n",
      "   6  2.3160461e+01 2.40e-01 2.57e-04  -1.7 1.04e+00  -5.9 4.95e-01 6.05e-01h  1\n",
      "   7  1.4609619e+01 1.09e-02 6.02e-04  -1.7 7.12e-01  -6.4 5.56e-01 9.55e-01h  1\n",
      "   8  1.0668152e+01 4.94e-03 1.06e-03  -3.8 5.76e-01  -6.9 6.50e-01 5.46e-01h  1\n",
      "   9  9.1490218e+00 2.46e-03 3.05e-03  -3.8 2.34e-01  -7.3 5.83e-01 5.02e-01h  1\n",
      "iter    objective    inf_pr   inf_du lg(mu)  ||d||  lg(rg) alpha_du alpha_pr  ls\n",
      "  10  7.5095374e+00 2.22e-03 1.29e-03  -3.8 5.98e-01  -7.8 1.06e-01 1.00e+00h  1\n",
      "  11  7.4919884e+00 2.45e-04 6.78e-04  -3.8 1.72e-01  -8.3 9.00e-01 1.00e+00h  1\n",
      "  12  7.4405848e+00 1.16e-05 3.43e-02  -5.0 4.85e-01    -  8.25e-01 9.82e-01h  1\n",
      "  13  7.4371556e+00 4.91e-05 3.92e-01  -5.0 2.12e-01  -8.8 1.00e+00 3.52e-01h  1\n",
      "  14  7.4350511e+00 6.89e-05 6.78e-02  -5.0 1.31e-01    -  1.00e+00 8.28e-01h  1\n",
      "  15  7.4350334e+00 4.88e-05 4.86e-02  -5.0 4.88e-02    -  1.00e+00 3.01e-01h  1\n",
      "  16  7.4350586e+00 4.45e-08 2.04e-06  -5.0 1.35e-02  -4.7 1.00e+00 1.00e+00h  1\n",
      "\n",
      "Number of Iterations....: 16\n",
      "\n",
      "                                   (scaled)                 (unscaled)\n",
      "Objective...............:   7.4350586416830939e+00    7.4350586416830939e+00\n",
      "Dual infeasibility......:   2.0415802360574656e-06    2.0415802360574656e-06\n",
      "Constraint violation....:   4.4456158194386301e-08    4.4456158194386301e-08\n",
      "Complementarity.........:   1.1184255014206264e-06    1.1184255014206264e-06\n",
      "Overall NLP error.......:   2.0415802360574656e-06    2.0415802360574656e-06\n",
      "\n",
      "Number of objective function evaluations             = 17\n",
      "Number of objective gradient evaluations             = 17\n",
      "Number of constraint evaluations                     = 17\n",
      "Number of constraint Jacobian evaluations            = 17\n",
      "Number of Lagrangian Hessian evaluations             = 16\n",
      "Total wall-clock secs in solver (w/o fun. eval./lin. alg.)  =  0.070\n",
      "Total wall-clock secs in linear solver                      =  0.123\n",
      "Total wall-clock secs in NLP function evaluations           =  0.012\n",
      "Total wall-clock secs                                       =  0.205\n",
      "\n",
      "EXIT: Optimal Solution Found (tol = 1.0e-04).\n"
     ]
    }
   ],
   "cell_type": "code",
   "source": [
    "nlp_gpu = constrained_power_flow_model(data; backend=CUDABackend())\n",
    "results = madnlp(nlp_gpu)\n",
    "nothing"
   ],
   "metadata": {},
   "execution_count": 11
  },
  {
   "cell_type": "markdown",
   "source": [
    "MadNLP detects automatically that the ExaModel instance `nlp_gpu` has been instantiated on the GPU,\n",
    "as a result the solver is able to solve the instance entirely on the GPU using the linear solver cuDSS.\n",
    "Note that we converge to the same objective value, but the the number of iterations is different,\n",
    "as well as the final convergence tolerance: when solving a model on the GPU with cuDSS, MadNLP has to use\n",
    "a few numerical tricks that impact slightly the accuracy in the evaluation. As a result, the tolerance has to be creased to obtain a reliable convergence on the GPU. If the solution is not satisfactory, you can specify\n",
    "your own convergence tolerance by using the option `tol`. E.g., to solve the model with the same precision as on the CPU:"
   ],
   "metadata": {}
  },
  {
   "outputs": [
    {
     "name": "stdout",
     "output_type": "stream",
     "text": [
      "This is MadNLP version v0.8.7, running with cuDSS v0.4.0\n",
      "\n",
      "Number of nonzeros in constraint Jacobian............:     5622\n",
      "Number of nonzeros in Lagrangian Hessian.............:     8578\n",
      "\n",
      "Total number of variables............................:     1398\n",
      "                     variables with only lower bounds:      356\n",
      "                variables with lower and upper bounds:      113\n",
      "                     variables with only upper bounds:        0\n",
      "Total number of equality constraints.................:     1042\n",
      "Total number of inequality constraints...............:        0\n",
      "        inequality constraints with only lower bounds:        0\n",
      "   inequality constraints with lower and upper bounds:        0\n",
      "        inequality constraints with only upper bounds:        0\n",
      "\n",
      "iter    objective    inf_pr   inf_du lg(mu)  ||d||  lg(rg) alpha_du alpha_pr  ls\n",
      "   0  3.5599964e+00 1.33e+01 0.00e+00  -1.0 0.00e+00    -  0.00e+00 0.00e+00   0\n",
      "   1  3.5600088e+00 1.33e+01 9.34e-03  -1.0 1.31e+01    -  5.37e-02 3.85e-07h  1\n",
      "   2  7.2635281e+00 1.19e+01 3.00e-03  -1.0 1.30e+01  -4.0 1.16e-01 1.07e-01h  1\n",
      "   3  1.7864405e+01 8.00e+00 8.07e-04  -1.0 1.16e+01  -4.5 2.39e-01 3.27e-01h  1\n",
      "   4  2.4966907e+01 5.26e+00 5.46e-04  -1.0 7.80e+00  -5.0 5.49e-01 3.43e-01h  1\n",
      "   5  3.8668929e+01 6.08e-01 5.72e-05  -1.0 5.10e+00  -5.4 8.48e-01 8.84e-01h  1\n",
      "   6  2.3160471e+01 2.40e-01 2.57e-04  -1.7 1.04e+00  -5.9 4.95e-01 6.05e-01h  1\n",
      "   7  1.4609629e+01 1.09e-02 6.02e-04  -1.7 7.12e-01  -6.4 5.56e-01 9.55e-01h  1\n",
      "   8  1.0668156e+01 4.94e-03 1.06e-03  -3.8 5.76e-01  -6.9 6.50e-01 5.46e-01h  1\n",
      "   9  9.1490171e+00 2.46e-03 3.05e-03  -3.8 2.34e-01  -7.3 5.83e-01 5.02e-01h  1\n",
      "iter    objective    inf_pr   inf_du lg(mu)  ||d||  lg(rg) alpha_du alpha_pr  ls\n",
      "  10  7.5095360e+00 2.22e-03 1.29e-03  -3.8 5.98e-01  -7.8 1.06e-01 1.00e+00h  1\n",
      "  11  7.4919883e+00 2.45e-04 6.78e-04  -3.8 1.72e-01  -8.3 9.00e-01 1.00e+00h  1\n",
      "  12  7.4331739e+00 1.13e-04 7.68e-04  -5.7 5.53e-01  -8.8 7.44e-01 1.00e+00h  1\n",
      "  13  7.4326289e+00 1.20e-05 9.52e-04  -5.7 1.15e-01  -9.2 9.54e-01 1.00e+00h  1\n",
      "  14  7.4325042e+00 4.36e-06 9.90e-04  -5.7 6.49e-02    -  9.68e-01 1.00e+00h  1\n",
      "  15  7.4324800e+00 6.86e-07 3.55e-06  -5.7 1.17e-02    -  1.00e+00 1.00e+00h  1\n",
      "  16  7.4318178e+00 7.98e-08 1.31e-03  -8.6 2.48e-02    -  8.31e-01 1.00e+00h  1\n",
      "  17  7.4318119e+00 1.18e-09 5.02e-04  -8.6 1.54e-02    -  7.22e-01 1.00e+00h  1\n",
      "  18  7.4318112e+00 2.95e-10 7.08e-05  -8.6 7.74e-03    -  8.61e-01 1.00e+00h  1\n",
      "  19  7.4318087e+00 1.03e-10 1.31e-05  -8.6 4.58e-03    -  8.99e-01 1.00e+00h  1\n",
      "iter    objective    inf_pr   inf_du lg(mu)  ||d||  lg(rg) alpha_du alpha_pr  ls\n",
      "  20  7.4318066e+00 2.75e-11 4.92e-09  -8.6 2.36e-03    -  1.00e+00 1.00e+00h  1\n",
      "\n",
      "Number of Iterations....: 20\n",
      "\n",
      "                                   (scaled)                 (unscaled)\n",
      "Objective...............:   7.4318065566228206e+00    7.4318065566228206e+00\n",
      "Dual infeasibility......:   4.9238379981472523e-09    4.9238379981472523e-09\n",
      "Constraint violation....:   2.7464488853460122e-11    2.7464488853460122e-11\n",
      "Complementarity.........:   5.6637675260711702e-09    5.6637675260711702e-09\n",
      "Overall NLP error.......:   5.6637675260711702e-09    5.6637675260711702e-09\n",
      "\n",
      "Number of objective function evaluations             = 21\n",
      "Number of objective gradient evaluations             = 21\n",
      "Number of constraint evaluations                     = 21\n",
      "Number of constraint Jacobian evaluations            = 21\n",
      "Number of Lagrangian Hessian evaluations             = 20\n",
      "Total wall-clock secs in solver (w/o fun. eval./lin. alg.)  =  0.066\n",
      "Total wall-clock secs in linear solver                      =  0.060\n",
      "Total wall-clock secs in NLP function evaluations           =  0.014\n",
      "Total wall-clock secs                                       =  0.140\n",
      "\n",
      "EXIT: Optimal Solution Found (tol = 1.0e-08).\n"
     ]
    }
   ],
   "cell_type": "code",
   "source": [
    "results = madnlp(nlp_gpu; tol=1e-8)\n",
    "nothing"
   ],
   "metadata": {},
   "execution_count": 12
  },
  {
   "cell_type": "markdown",
   "source": [
    "Using MadNLP, we have now all the elements in hand to solve the optimal power flow problem on the GPU."
   ],
   "metadata": {}
  },
  {
   "cell_type": "markdown",
   "source": [
    "---\n",
    "\n",
    "*This notebook was generated using [Literate.jl](https://github.com/fredrikekre/Literate.jl).*"
   ],
   "metadata": {}
  }
 ],
 "nbformat_minor": 3,
 "metadata": {
  "language_info": {
   "file_extension": ".jl",
   "mimetype": "application/julia",
   "name": "julia",
   "version": "1.11.5"
  },
  "kernelspec": {
   "name": "julia-1.11",
   "display_name": "Julia 1.11.5",
   "language": "julia"
  }
 },
 "nbformat": 4
}
