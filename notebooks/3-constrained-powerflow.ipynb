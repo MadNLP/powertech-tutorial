{
 "cells": [
  {
   "cell_type": "markdown",
   "source": [
    "# Tutorial 3: solving constrained power flow with MadNLP\n",
    "\n",
    "In this third tutorial, we look at a variant of the power flow equations,\n",
    "where we add operational constraints on the different variables: we add\n",
    "bounds on the voltage magnitude, the active and the reactive power genenerations.\n",
    "Our goal is to identify if a solution of the power flow equations exists within these bounds."
   ],
   "metadata": {}
  },
  {
   "cell_type": "markdown",
   "source": [
    "We start by importing the usual packages:"
   ],
   "metadata": {}
  },
  {
   "outputs": [],
   "cell_type": "code",
   "source": [
    "using LinearAlgebra\n",
    "using SparseArrays\n",
    "\n",
    "using NLPModels\n",
    "using ExaModels\n",
    "\n",
    "using JLD2\n",
    "\n",
    "include(\"utils.jl\")"
   ],
   "metadata": {},
   "execution_count": null
  },
  {
   "cell_type": "markdown",
   "source": [
    "We import a small instance:"
   ],
   "metadata": {}
  },
  {
   "outputs": [],
   "cell_type": "code",
   "source": [
    "data = JLD2.load(\"instances/case9.jld2\")[\"data\"]\n",
    "ngen = length(data.gen)\n",
    "nbus = length(data.bus)\n",
    "nlines = length(data.branch)"
   ],
   "metadata": {},
   "execution_count": null
  },
  {
   "cell_type": "markdown",
   "source": [
    "## Model\n",
    "On the contrary to the tutorial 2, we consider again the power flow equations with a batch size equal to 1.\n",
    "The bounds are easy to define in ExaModels, as we can pass them to the model directly when we are calling the function `variable` using the keyword `lvar` and `uvar`. We use the bounds specified in the\n",
    "data. As a results, the variables are initialized as follows:"
   ],
   "metadata": {}
  },
  {
   "outputs": [],
   "cell_type": "code",
   "source": [
    "core = ExaModels.ExaCore()\n",
    "\n",
    "va = ExaModels.variable(core, nbus)\n",
    "vm = ExaModels.variable(core, nbus; start = data.vm0, lvar = data.vmin, uvar = data.vmax)\n",
    "pg = ExaModels.variable(core, ngen;  start=data.pg0, lvar = data.pmin, uvar = data.pmax)\n",
    "qg = ExaModels.variable(core, ngen;  start=data.qg0, lvar = data.qmin, uvar = data.qmax)\n",
    "p = ExaModels.variable(core, 2*nlines)\n",
    "q = ExaModels.variable(core, 2*nlines)"
   ],
   "metadata": {},
   "execution_count": null
  },
  {
   "cell_type": "markdown",
   "source": [
    "As we are bounding the feasible set, we are not guaranteed to find a solution\n",
    "of the power flow constraints satisfying the bound constraints. As a result, we\n",
    "relax the power flow constraints and penalize their violation in the objective using a ℓ1 penalty.\n",
    "If we denote by $g(x) = 0$ the original power flow equations, the relaxed model writes\n",
    "$$\n",
    "g(x) = σ_p - σ_n  \\; , \\; σ_p ≥ 0 \\; , \\; σ_n ≥ 0\n",
    "$$\n",
    "and we define the objective as $f(σ) = 1^⊤ σ_P + 1^⊤ σ_N$."
   ],
   "metadata": {}
  },
  {
   "cell_type": "markdown",
   "source": [
    "The definition of the variables $σ$ and the objective translates with ExaModels as"
   ],
   "metadata": {}
  },
  {
   "outputs": [],
   "cell_type": "code",
   "source": [
    "spp = ExaModels.variable(core, nbus; lvar=0.0)\n",
    "spn = ExaModels.variable(core, nbus; lvar=0.0)\n",
    "sqp = ExaModels.variable(core, nbus; lvar=0.0)\n",
    "sqn = ExaModels.variable(core, nbus; lvar=0.0)\n",
    "\n",
    "objective = ExaModels.objective(\n",
    "    core,\n",
    "    spp[b.i] + spn[b.i] + sqp[b.i] + sqn[b.i] for b in data.bus\n",
    ")"
   ],
   "metadata": {},
   "execution_count": null
  },
  {
   "cell_type": "markdown",
   "source": [
    "We implement the full power flow model with bounds in the following function:"
   ],
   "metadata": {}
  },
  {
   "outputs": [],
   "cell_type": "code",
   "source": [
    "function constrained_power_flow_model(\n",
    "    data;\n",
    "    backend = nothing,\n",
    "    T = Float64,\n",
    "    kwargs...\n",
    ")\n",
    "    ngen = length(data.gen)\n",
    "    nbus = length(data.bus)\n",
    "    nlines = length(data.branch)\n",
    "\n",
    "    pv_buses = get_pv_buses(data)\n",
    "    free_gen = get_free_generators(data)\n",
    "\n",
    "    w = ExaModels.ExaCore(T; backend = backend)\n",
    "\n",
    "    va = ExaModels.variable(w, nbus)\n",
    "    vm = ExaModels.variable(\n",
    "        w,\n",
    "        nbus;\n",
    "        start = data.vm0,\n",
    "        lvar = data.vmin,\n",
    "        uvar = data.vmax,\n",
    "    )\n",
    "    pg = ExaModels.variable(w, ngen;  start=data.pg0, lvar = data.pmin, uvar = data.pmax)\n",
    "    qg = ExaModels.variable(w, ngen;  start=data.qg0, lvar = data.qmin, uvar = data.qmax)\n",
    "    p = ExaModels.variable(w, 2*nlines)\n",
    "    q = ExaModels.variable(w, 2*nlines)"
   ],
   "metadata": {},
   "execution_count": null
  },
  {
   "cell_type": "markdown",
   "source": [
    "slack variables"
   ],
   "metadata": {}
  },
  {
   "outputs": [],
   "cell_type": "code",
   "source": [
    "    spp = ExaModels.variable(w, nbus; lvar=0.0)\n",
    "    spn = ExaModels.variable(w, nbus; lvar=0.0)\n",
    "    sqp = ExaModels.variable(w, nbus; lvar=0.0)\n",
    "    sqn = ExaModels.variable(w, nbus; lvar=0.0)"
   ],
   "metadata": {},
   "execution_count": null
  },
  {
   "cell_type": "markdown",
   "source": [
    "Fix variables to setpoint"
   ],
   "metadata": {}
  },
  {
   "outputs": [],
   "cell_type": "code",
   "source": [
    "    c1 = ExaModels.constraint(w, va[i] for i in data.ref_buses)\n",
    "    c01 = ExaModels.constraint(w, vm[i] for i in pv_buses; lcon=data.vm0[pv_buses], ucon=data.vm0[pv_buses])\n",
    "    c02 = ExaModels.constraint(w, pg[i] for i in free_gen; lcon=data.pg0[free_gen], ucon=data.pg0[free_gen])"
   ],
   "metadata": {},
   "execution_count": null
  },
  {
   "cell_type": "markdown",
   "source": [
    "Active power flow, FR"
   ],
   "metadata": {}
  },
  {
   "outputs": [],
   "cell_type": "code",
   "source": [
    "    c2 = ExaModels.constraint(\n",
    "        w,\n",
    "        p[b.f_idx] - b.c5 * vm[b.f_bus]^2 -\n",
    "        b.c3 * (vm[b.f_bus] * vm[b.t_bus] * cos(va[b.f_bus] - va[b.t_bus])) -\n",
    "        b.c4 * (vm[b.f_bus] * vm[b.t_bus] * sin(va[b.f_bus] - va[b.t_bus])) for\n",
    "        b in data.branch\n",
    "    )"
   ],
   "metadata": {},
   "execution_count": null
  },
  {
   "cell_type": "markdown",
   "source": [
    "Reactive power flow, FR"
   ],
   "metadata": {}
  },
  {
   "outputs": [],
   "cell_type": "code",
   "source": [
    "    c3 = ExaModels.constraint(\n",
    "        w,\n",
    "        q[b.f_idx] +\n",
    "        b.c6 * vm[b.f_bus]^2 +\n",
    "        b.c4 * (vm[b.f_bus] * vm[b.t_bus] * cos(va[b.f_bus] - va[b.t_bus])) -\n",
    "        b.c3 * (vm[b.f_bus] * vm[b.t_bus] * sin(va[b.f_bus] - va[b.t_bus])) for\n",
    "        b in data.branch\n",
    "    )"
   ],
   "metadata": {},
   "execution_count": null
  },
  {
   "cell_type": "markdown",
   "source": [
    "Active power flow, TO"
   ],
   "metadata": {}
  },
  {
   "outputs": [],
   "cell_type": "code",
   "source": [
    "    c4 = ExaModels.constraint(\n",
    "        w,\n",
    "        p[b.t_idx] - b.c7 * vm[b.t_bus]^2 -\n",
    "        b.c1 * (vm[b.t_bus] * vm[b.f_bus] * cos(va[b.t_bus] - va[b.f_bus])) -\n",
    "        b.c2 * (vm[b.t_bus] * vm[b.f_bus] * sin(va[b.t_bus] - va[b.f_bus])) for\n",
    "        b in data.branch\n",
    "    )"
   ],
   "metadata": {},
   "execution_count": null
  },
  {
   "cell_type": "markdown",
   "source": [
    "Reactive power flow, TO"
   ],
   "metadata": {}
  },
  {
   "outputs": [],
   "cell_type": "code",
   "source": [
    "    c5 = ExaModels.constraint(\n",
    "        w,\n",
    "        q[b.t_idx] +\n",
    "        b.c8 * vm[b.t_bus]^2 +\n",
    "        b.c2 * (vm[b.t_bus] * vm[b.f_bus] * cos(va[b.t_bus] - va[b.f_bus])) -\n",
    "        b.c1 * (vm[b.t_bus] * vm[b.f_bus] * sin(va[b.t_bus] - va[b.f_bus])) for\n",
    "        b in data.branch\n",
    "    )"
   ],
   "metadata": {},
   "execution_count": null
  },
  {
   "cell_type": "markdown",
   "source": [
    "Power flow constraints"
   ],
   "metadata": {}
  },
  {
   "outputs": [],
   "cell_type": "code",
   "source": [
    "    c9 = ExaModels.constraint(w, b.pd + b.gs * vm[b.i]^2 - spp[b.i] + spn[b.i] for b in data.bus)\n",
    "    c10 = ExaModels.constraint(w, b.qd - b.bs * vm[b.i]^2 - sqp[b.i] + sqn[b.i] for b in data.bus)\n",
    "    c11 = ExaModels.constraint!(w, c9, a.bus => p[a.i] for a in data.arc)\n",
    "    c12 = ExaModels.constraint!(w, c10, a.bus => q[a.i] for a in data.arc)\n",
    "    c13 = ExaModels.constraint!(w, c9, g.bus => -pg[g.i] for g in data.gen)\n",
    "    c14 = ExaModels.constraint!(w, c10, g.bus => -qg[g.i] for g in data.gen)\n",
    "\n",
    "    o = ExaModels.objective(\n",
    "        w,\n",
    "        spp[b.i] + spn[b.i] + sqp[b.i] + sqn[b.i] for b in data.bus\n",
    "    )\n",
    "    return ExaModels.ExaModel(w; kwargs...)\n",
    "end"
   ],
   "metadata": {},
   "execution_count": null
  },
  {
   "cell_type": "markdown",
   "source": [
    "## Solution with the interior-point solver MadNLP\n",
    "\n",
    "We generate a new model using the function `constrained_power_flow_model`:"
   ],
   "metadata": {}
  },
  {
   "outputs": [],
   "cell_type": "code",
   "source": [
    "nlp = constrained_power_flow_model(data)"
   ],
   "metadata": {},
   "execution_count": null
  },
  {
   "cell_type": "markdown",
   "source": [
    "As we have incorporated bounds to our optimization variables, the constrained power flow\n",
    "is not solvable using the Newton method we used in the two previous tutorials. However,\n",
    "it is good candidate for an interior-point method, as implemented in MadNLP."
   ],
   "metadata": {}
  },
  {
   "cell_type": "markdown",
   "source": [
    "MadNLP takes directly as input any model following the `AbstractNLPModel` abstraction, as it is\n",
    "the case with our model `nlp`. As a consequence, solving the constrained power flow equations simply amounts to\n",
    "call the function `madnlp`:"
   ],
   "metadata": {}
  },
  {
   "outputs": [],
   "cell_type": "code",
   "source": [
    "using MadNLP\n",
    "results = madnlp(nlp)"
   ],
   "metadata": {},
   "execution_count": null
  },
  {
   "cell_type": "markdown",
   "source": [
    "We observe that MadNLP converges, and final objective is close to 0, meaning that\n",
    "the power flow is feasible within the bounds. The solution returned by MadNLP is the\n",
    "same as those returned previously by our custom Newton solver:"
   ],
   "metadata": {}
  },
  {
   "outputs": [],
   "cell_type": "code",
   "source": [
    "vm = results.solution[nbus+1:2*nbus]"
   ],
   "metadata": {},
   "execution_count": null
  },
  {
   "cell_type": "markdown",
   "source": [
    "Observe that this is not the case on most instances. E.g., MadNLP converges to\n",
    "a solution with a nonzero objective on `89pegase`, meaning this instance does not have a solution\n",
    "of the power flow equations within the bounds."
   ],
   "metadata": {}
  },
  {
   "outputs": [],
   "cell_type": "code",
   "source": [
    "data = JLD2.load(\"instances/pglib_opf_case89_pegase.jld2\")[\"data\"]\n",
    "nlp = constrained_power_flow_model(data)\n",
    "results = madnlp(nlp)"
   ],
   "metadata": {},
   "execution_count": null
  },
  {
   "cell_type": "markdown",
   "source": [
    "## Deporting the solution on the GPU\n",
    "Like our previous custom Newton algorithm, MadNLP supports by default offloading the solution of the\n",
    "model on the GPU, using the extension MadNLPGPU:"
   ],
   "metadata": {}
  },
  {
   "outputs": [],
   "cell_type": "code",
   "source": [
    "using MadNLPGPU"
   ],
   "metadata": {},
   "execution_count": null
  },
  {
   "cell_type": "markdown",
   "source": [
    "Once MadNLPGPU is imported, you just have to instantiate the previous model also on the GPU to solve\n",
    "it using MadNLP:"
   ],
   "metadata": {}
  },
  {
   "outputs": [],
   "cell_type": "code",
   "source": [
    "nlp_gpu = constrained_power_flow_model(data; backend=CUDABackend())\n",
    "results = madnlp(nlp_gpu)"
   ],
   "metadata": {},
   "execution_count": null
  },
  {
   "cell_type": "markdown",
   "source": [
    "Note that we converge to the same objective value, but the the number of iterations is different,\n",
    "as well as the final convergence tolerance: when solving a model on the GPU with cuDSS, MadNLP has to use\n",
    "a few numerical tricks that impact slightly the accuracy in the evaluation. As a result, the tolerance has to be creased to obtain a reliable convergence on the GPU. If the solution is not satisfactory, you can specify\n",
    "your own convergence tolerance by using the option `tol`. E.g., to solve the model with the same precision as on the CPU:"
   ],
   "metadata": {}
  },
  {
   "outputs": [],
   "cell_type": "code",
   "source": [
    "results = madnlp(nlp_gpu; tol=1e-8)"
   ],
   "metadata": {},
   "execution_count": null
  },
  {
   "cell_type": "markdown",
   "source": [
    "Using MadNLP, we have now all the elements in hand to solve the optimal power flow problem on the GPU."
   ],
   "metadata": {}
  },
  {
   "cell_type": "markdown",
   "source": [
    "---\n",
    "\n",
    "*This notebook was generated using [Literate.jl](https://github.com/fredrikekre/Literate.jl).*"
   ],
   "metadata": {}
  }
 ],
 "nbformat_minor": 3,
 "metadata": {
  "language_info": {
   "file_extension": ".jl",
   "mimetype": "application/julia",
   "name": "julia",
   "version": "1.11.5"
  },
  "kernelspec": {
   "name": "julia-1.11",
   "display_name": "Julia 1.11.5",
   "language": "julia"
  }
 },
 "nbformat": 4
}
