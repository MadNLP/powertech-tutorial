{
 "cells": [
  {
   "cell_type": "markdown",
   "source": [
    "# Tutorial 4: solving optimal power flow with MadNLP\n",
    "\n",
    "With the previous tutorial, we have now all the elements to implement\n",
    "the optimal power flow problem with MadNLP. It remains to add to the model\n",
    "the following elements:\n",
    "\n",
    "- an objective penalizing the cost to run each power generator.\n",
    "- line flow constraints;\n",
    "- voltage angle constraints;"
   ],
   "metadata": {}
  },
  {
   "cell_type": "markdown",
   "source": [
    "We start the tutorial again by importing the usual packages:"
   ],
   "metadata": {}
  },
  {
   "outputs": [],
   "cell_type": "code",
   "source": [
    "using LinearAlgebra\n",
    "using SparseArrays\n",
    "\n",
    "using NLPModels\n",
    "using ExaModels\n",
    "\n",
    "using JLD2\n",
    "\n",
    "include(\"utils.jl\")"
   ],
   "metadata": {},
   "execution_count": null
  },
  {
   "cell_type": "markdown",
   "source": [
    "We import a small instance:"
   ],
   "metadata": {}
  },
  {
   "outputs": [],
   "cell_type": "code",
   "source": [
    "data = JLD2.load(\"instances/case9.jld2\")[\"data\"]\n",
    "ngen = length(data.gen)\n",
    "nbus = length(data.bus)\n",
    "nlines = length(data.branch)"
   ],
   "metadata": {},
   "execution_count": null
  },
  {
   "cell_type": "markdown",
   "source": [
    "## Optimal power flow model"
   ],
   "metadata": {}
  },
  {
   "cell_type": "markdown",
   "source": [
    "We implement the AC optimal power flow problem using ExaModels in the\n",
    "following function `acopf_model`:"
   ],
   "metadata": {}
  },
  {
   "outputs": [],
   "cell_type": "code",
   "source": [
    "function acopf_model(\n",
    "    data;\n",
    "    backend = nothing,\n",
    "    T = Float64,\n",
    "    kwargs...,\n",
    ")\n",
    "    w = ExaModels.ExaCore(T; backend = backend)\n",
    "    va = ExaModels.variable(w, length(data.bus))\n",
    "    vm = ExaModels.variable(\n",
    "        w,\n",
    "        length(data.bus);\n",
    "        start = data.vm0,\n",
    "        lvar = data.vmin,\n",
    "        uvar = data.vmax,\n",
    "    )\n",
    "    pg = ExaModels.variable(w, length(data.gen); start=data.pg0, lvar = data.pmin, uvar = data.pmax)\n",
    "    qg = ExaModels.variable(w, length(data.gen); start=data.qg0, lvar = data.qmin, uvar = data.qmax)\n",
    "    p = ExaModels.variable(w, length(data.arc); lvar = -data.rate_a, uvar = data.rate_a)\n",
    "    q = ExaModels.variable(w, length(data.arc); lvar = -data.rate_a, uvar = data.rate_a)\n",
    "\n",
    "    o = ExaModels.objective(\n",
    "        w,\n",
    "        g.cost1 * pg[g.i]^2 + g.cost2 * pg[g.i] + g.cost3 for g in data.gen\n",
    "    )\n",
    "\n",
    "    c1 = ExaModels.constraint(w, va[i] for i in data.ref_buses)"
   ],
   "metadata": {},
   "execution_count": null
  },
  {
   "cell_type": "markdown",
   "source": [
    "Active power flow, FR"
   ],
   "metadata": {}
  },
  {
   "outputs": [],
   "cell_type": "code",
   "source": [
    "    c2 = ExaModels.constraint(\n",
    "        w,\n",
    "        p[b.f_idx] - b.c5 * vm[b.f_bus]^2 -\n",
    "        b.c3 * (vm[b.f_bus] * vm[b.t_bus] * cos(va[b.f_bus] - va[b.t_bus])) -\n",
    "        b.c4 * (vm[b.f_bus] * vm[b.t_bus] * sin(va[b.f_bus] - va[b.t_bus])) for\n",
    "        b in data.branch\n",
    "    )"
   ],
   "metadata": {},
   "execution_count": null
  },
  {
   "cell_type": "markdown",
   "source": [
    "Reactive power flow, FR"
   ],
   "metadata": {}
  },
  {
   "outputs": [],
   "cell_type": "code",
   "source": [
    "    c3 = ExaModels.constraint(\n",
    "        w,\n",
    "        q[b.f_idx] +\n",
    "        b.c6 * vm[b.f_bus]^2 +\n",
    "        b.c4 * (vm[b.f_bus] * vm[b.t_bus] * cos(va[b.f_bus] - va[b.t_bus])) -\n",
    "        b.c3 * (vm[b.f_bus] * vm[b.t_bus] * sin(va[b.f_bus] - va[b.t_bus])) for\n",
    "        b in data.branch\n",
    "    )"
   ],
   "metadata": {},
   "execution_count": null
  },
  {
   "cell_type": "markdown",
   "source": [
    "Active power flow, TO"
   ],
   "metadata": {}
  },
  {
   "outputs": [],
   "cell_type": "code",
   "source": [
    "    c4 = ExaModels.constraint(\n",
    "        w,\n",
    "        p[b.t_idx] - b.c7 * vm[b.t_bus]^2 -\n",
    "        b.c1 * (vm[b.t_bus] * vm[b.f_bus] * cos(va[b.t_bus] - va[b.f_bus])) -\n",
    "        b.c2 * (vm[b.t_bus] * vm[b.f_bus] * sin(va[b.t_bus] - va[b.f_bus])) for\n",
    "        b in data.branch\n",
    "    )"
   ],
   "metadata": {},
   "execution_count": null
  },
  {
   "cell_type": "markdown",
   "source": [
    "Reactive power flow, TO"
   ],
   "metadata": {}
  },
  {
   "outputs": [],
   "cell_type": "code",
   "source": [
    "    c5 = ExaModels.constraint(\n",
    "        w,\n",
    "        q[b.t_idx] +\n",
    "        b.c8 * vm[b.t_bus]^2 +\n",
    "        b.c2 * (vm[b.t_bus] * vm[b.f_bus] * cos(va[b.t_bus] - va[b.f_bus])) -\n",
    "        b.c1 * (vm[b.t_bus] * vm[b.f_bus] * sin(va[b.t_bus] - va[b.f_bus])) for\n",
    "        b in data.branch\n",
    "    )"
   ],
   "metadata": {},
   "execution_count": null
  },
  {
   "cell_type": "markdown",
   "source": [
    "Voltage angle difference"
   ],
   "metadata": {}
  },
  {
   "outputs": [],
   "cell_type": "code",
   "source": [
    "    c6 = ExaModels.constraint(\n",
    "        w,\n",
    "        va[b.f_bus] - va[b.t_bus] for b in data.branch;\n",
    "        lcon = data.angmin,\n",
    "        ucon = data.angmax,\n",
    "    )"
   ],
   "metadata": {},
   "execution_count": null
  },
  {
   "cell_type": "markdown",
   "source": [
    "Line flow constraints"
   ],
   "metadata": {}
  },
  {
   "outputs": [],
   "cell_type": "code",
   "source": [
    "    c7 = ExaModels.constraint(\n",
    "        w,\n",
    "        p[b.f_idx]^2 + q[b.f_idx]^2 - b.rate_a_sq for b in data.branch;\n",
    "        lcon = fill!(similar(data.branch, Float64, length(data.branch)), -Inf),\n",
    "    )\n",
    "    c8 = ExaModels.constraint(\n",
    "        w,\n",
    "        p[b.t_idx]^2 + q[b.t_idx]^2 - b.rate_a_sq for b in data.branch;\n",
    "        lcon = fill!(similar(data.branch, Float64, length(data.branch)), -Inf),\n",
    "    )"
   ],
   "metadata": {},
   "execution_count": null
  },
  {
   "cell_type": "markdown",
   "source": [
    "Active power balance"
   ],
   "metadata": {}
  },
  {
   "outputs": [],
   "cell_type": "code",
   "source": [
    "    c9 = ExaModels.constraint(w, b.pd + b.gs * vm[b.i]^2 for b in data.bus)\n",
    "    c11 = ExaModels.constraint!(w, c9, a.bus => p[a.i] for a in data.arc)\n",
    "    c13 = ExaModels.constraint!(w, c9, g.bus => -pg[g.i] for g in data.gen)"
   ],
   "metadata": {},
   "execution_count": null
  },
  {
   "cell_type": "markdown",
   "source": [
    "Reactive power balance"
   ],
   "metadata": {}
  },
  {
   "outputs": [],
   "cell_type": "code",
   "source": [
    "    c10 = ExaModels.constraint(w, b.qd - b.bs * vm[b.i]^2 for b in data.bus)\n",
    "    c12 = ExaModels.constraint!(w, c10, a.bus => q[a.i] for a in data.arc)\n",
    "    c14 = ExaModels.constraint!(w, c10, g.bus => -qg[g.i] for g in data.gen)\n",
    "\n",
    "    return ExaModels.ExaModel(w; kwargs...)\n",
    "end"
   ],
   "metadata": {},
   "execution_count": null
  },
  {
   "cell_type": "markdown",
   "source": [
    "Before diving into the solution on the GPU, we show how to solve `case9`\n",
    "using MadNLP:"
   ],
   "metadata": {}
  },
  {
   "outputs": [],
   "cell_type": "code",
   "source": [
    "using MadNLP\n",
    "\n",
    "nlp = acopf_model(data)\n",
    "results = madnlp(nlp)"
   ],
   "metadata": {},
   "execution_count": null
  },
  {
   "cell_type": "markdown",
   "source": [
    "## Solving optimal power flow on the GPU\n",
    "For solving the optimal power flow model on the GPU, the set-up is similar to\n",
    "what we have detailed in the tutorial 3. We start by importing MadNLPGPU, and we\n",
    "instantiate a new optimal power flow instance on the GPU:"
   ],
   "metadata": {}
  },
  {
   "outputs": [],
   "cell_type": "code",
   "source": [
    "using MadNLPGPU\n",
    "\n",
    "nlp_gpu = acopf_model(data; backend=CUDABackend())"
   ],
   "metadata": {},
   "execution_count": null
  },
  {
   "cell_type": "markdown",
   "source": [
    "Solving the problem using cuDSS simply amounts to"
   ],
   "metadata": {}
  },
  {
   "outputs": [],
   "cell_type": "code",
   "source": [
    "results = madnlp(nlp_gpu)"
   ],
   "metadata": {},
   "execution_count": null
  },
  {
   "cell_type": "markdown",
   "source": [
    "The instance `case9` is too small to get any significant speed-up compared\n",
    "to the CPU. However, we can solve a larger instance just by importing new data:\n",
    "For instance, to solve the case `10000_goc`:"
   ],
   "metadata": {}
  },
  {
   "outputs": [],
   "cell_type": "code",
   "source": [
    "data = JLD2.load(\"instances/pglib_opf_case10000_goc.jld2\")[\"data\"]\n",
    "nlp_gpu = acopf_model(data; backend=CUDABackend())\n",
    "results = madnlp(nlp_gpu; cudss_algorithm=MadNLP.LDL, max_iter=100)"
   ],
   "metadata": {},
   "execution_count": null
  },
  {
   "cell_type": "markdown",
   "source": [
    "---\n",
    "\n",
    "*This notebook was generated using [Literate.jl](https://github.com/fredrikekre/Literate.jl).*"
   ],
   "metadata": {}
  }
 ],
 "nbformat_minor": 3,
 "metadata": {
  "language_info": {
   "file_extension": ".jl",
   "mimetype": "application/julia",
   "name": "julia",
   "version": "1.11.5"
  },
  "kernelspec": {
   "name": "julia-1.11",
   "display_name": "Julia 1.11.5",
   "language": "julia"
  }
 },
 "nbformat": 4
}
