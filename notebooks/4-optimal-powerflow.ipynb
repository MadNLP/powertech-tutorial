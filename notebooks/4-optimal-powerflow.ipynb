{
 "cells": [
  {
   "cell_type": "markdown",
   "source": [
    "# Tutorial 4: solving optimal power flow with MadNLP\n",
    "\n",
    "With the previous tutorial, we have now all the elements to implement\n",
    "the optimal power flow problem with MadNLP. It remains to add to the model\n",
    "the following elements:\n",
    "\n",
    "- an objective penalizing the cost to run each power generator.\n",
    "- line flow constraints;\n",
    "- voltage angle constraints;"
   ],
   "metadata": {}
  },
  {
   "cell_type": "markdown",
   "source": [
    "We start the tutorial again by importing the usual packages:"
   ],
   "metadata": {}
  },
  {
   "outputs": [
    {
     "output_type": "execute_result",
     "data": {
      "text/plain": "get_block_reordering (generic function with 1 method)"
     },
     "metadata": {},
     "execution_count": 1
    }
   ],
   "cell_type": "code",
   "source": [
    "using LinearAlgebra\n",
    "using SparseArrays\n",
    "\n",
    "using NLPModels\n",
    "using ExaModels\n",
    "\n",
    "using JLD2\n",
    "\n",
    "include(\"utils.jl\")"
   ],
   "metadata": {},
   "execution_count": 1
  },
  {
   "cell_type": "markdown",
   "source": [
    "We import a small instance:"
   ],
   "metadata": {}
  },
  {
   "outputs": [
    {
     "output_type": "execute_result",
     "data": {
      "text/plain": "9"
     },
     "metadata": {},
     "execution_count": 2
    }
   ],
   "cell_type": "code",
   "source": [
    "DATA_DIR = \"/home/fpacaud/dev/examodels-tutorials/instances\"\n",
    "data = JLD2.load(joinpath(DATA_DIR, \"case9.jld2\"))[\"data\"]\n",
    "ngen = length(data.gen)\n",
    "nbus = length(data.bus)\n",
    "nlines = length(data.branch)"
   ],
   "metadata": {},
   "execution_count": 2
  },
  {
   "cell_type": "markdown",
   "source": [
    "## Optimal power flow model"
   ],
   "metadata": {}
  },
  {
   "cell_type": "markdown",
   "source": [
    "We implement the AC optimal power flow problem using ExaModels in the\n",
    "following function `acopf_model`:"
   ],
   "metadata": {}
  },
  {
   "outputs": [
    {
     "output_type": "execute_result",
     "data": {
      "text/plain": "acopf_model (generic function with 1 method)"
     },
     "metadata": {},
     "execution_count": 3
    }
   ],
   "cell_type": "code",
   "source": [
    "function acopf_model(\n",
    "    data;\n",
    "    backend = nothing,\n",
    "    T = Float64,\n",
    "    kwargs...,\n",
    ")\n",
    "    w = ExaModels.ExaCore(T; backend = backend)\n",
    "    va = ExaModels.variable(w, length(data.bus))\n",
    "    vm = ExaModels.variable(\n",
    "        w,\n",
    "        length(data.bus);\n",
    "        start = data.vm0,\n",
    "        lvar = data.vmin,\n",
    "        uvar = data.vmax,\n",
    "    )\n",
    "    pg = ExaModels.variable(w, length(data.gen); start=data.pg0, lvar = data.pmin, uvar = data.pmax)\n",
    "    qg = ExaModels.variable(w, length(data.gen); start=data.qg0, lvar = data.qmin, uvar = data.qmax)\n",
    "    p = ExaModels.variable(w, length(data.arc); lvar = -data.rate_a, uvar = data.rate_a)\n",
    "    q = ExaModels.variable(w, length(data.arc); lvar = -data.rate_a, uvar = data.rate_a)\n",
    "\n",
    "    o = ExaModels.objective(\n",
    "        w,\n",
    "        g.cost1 * pg[g.i]^2 + g.cost2 * pg[g.i] + g.cost3 for g in data.gen\n",
    "    )\n",
    "\n",
    "    c1 = ExaModels.constraint(w, va[i] for i in data.ref_buses)\n",
    "\n",
    "    # Active power flow, FR\n",
    "    c2 = ExaModels.constraint(\n",
    "        w,\n",
    "        p[b.f_idx] - b.c5 * vm[b.f_bus]^2 -\n",
    "        b.c3 * (vm[b.f_bus] * vm[b.t_bus] * cos(va[b.f_bus] - va[b.t_bus])) -\n",
    "        b.c4 * (vm[b.f_bus] * vm[b.t_bus] * sin(va[b.f_bus] - va[b.t_bus])) for\n",
    "        b in data.branch\n",
    "    )\n",
    "    # Reactive power flow, FR\n",
    "    c3 = ExaModels.constraint(\n",
    "        w,\n",
    "        q[b.f_idx] +\n",
    "        b.c6 * vm[b.f_bus]^2 +\n",
    "        b.c4 * (vm[b.f_bus] * vm[b.t_bus] * cos(va[b.f_bus] - va[b.t_bus])) -\n",
    "        b.c3 * (vm[b.f_bus] * vm[b.t_bus] * sin(va[b.f_bus] - va[b.t_bus])) for\n",
    "        b in data.branch\n",
    "    )\n",
    "    # Active power flow, TO\n",
    "    c4 = ExaModels.constraint(\n",
    "        w,\n",
    "        p[b.t_idx] - b.c7 * vm[b.t_bus]^2 -\n",
    "        b.c1 * (vm[b.t_bus] * vm[b.f_bus] * cos(va[b.t_bus] - va[b.f_bus])) -\n",
    "        b.c2 * (vm[b.t_bus] * vm[b.f_bus] * sin(va[b.t_bus] - va[b.f_bus])) for\n",
    "        b in data.branch\n",
    "    )\n",
    "    # Reactive power flow, TO\n",
    "    c5 = ExaModels.constraint(\n",
    "        w,\n",
    "        q[b.t_idx] +\n",
    "        b.c8 * vm[b.t_bus]^2 +\n",
    "        b.c2 * (vm[b.t_bus] * vm[b.f_bus] * cos(va[b.t_bus] - va[b.f_bus])) -\n",
    "        b.c1 * (vm[b.t_bus] * vm[b.f_bus] * sin(va[b.t_bus] - va[b.f_bus])) for\n",
    "        b in data.branch\n",
    "    )\n",
    "\n",
    "    # Voltage angle difference\n",
    "    c6 = ExaModels.constraint(\n",
    "        w,\n",
    "        va[b.f_bus] - va[b.t_bus] for b in data.branch;\n",
    "        lcon = data.angmin,\n",
    "        ucon = data.angmax,\n",
    "    )\n",
    "    # Line flow constraints\n",
    "    c7 = ExaModels.constraint(\n",
    "        w,\n",
    "        p[b.f_idx]^2 + q[b.f_idx]^2 - b.rate_a_sq for b in data.branch;\n",
    "        lcon = fill!(similar(data.branch, Float64, length(data.branch)), -Inf),\n",
    "    )\n",
    "    c8 = ExaModels.constraint(\n",
    "        w,\n",
    "        p[b.t_idx]^2 + q[b.t_idx]^2 - b.rate_a_sq for b in data.branch;\n",
    "        lcon = fill!(similar(data.branch, Float64, length(data.branch)), -Inf),\n",
    "    )\n",
    "\n",
    "    # Active power balance\n",
    "    c9 = ExaModels.constraint(w, b.pd + b.gs * vm[b.i]^2 for b in data.bus)\n",
    "    c11 = ExaModels.constraint!(w, c9, a.bus => p[a.i] for a in data.arc)\n",
    "    c13 = ExaModels.constraint!(w, c9, g.bus => -pg[g.i] for g in data.gen)\n",
    "    # Reactive power balance\n",
    "    c10 = ExaModels.constraint(w, b.qd - b.bs * vm[b.i]^2 for b in data.bus)\n",
    "    c12 = ExaModels.constraint!(w, c10, a.bus => q[a.i] for a in data.arc)\n",
    "    c14 = ExaModels.constraint!(w, c10, g.bus => -qg[g.i] for g in data.gen)\n",
    "\n",
    "    return ExaModels.ExaModel(w; kwargs...)\n",
    "end"
   ],
   "metadata": {},
   "execution_count": 3
  },
  {
   "cell_type": "markdown",
   "source": [
    "Before diving into the solution on the GPU, we show how to solve `case9`\n",
    "using MadNLP:"
   ],
   "metadata": {}
  },
  {
   "outputs": [
    {
     "name": "stdout",
     "output_type": "stream",
     "text": [
      "This is MadNLP version v0.8.7, running with umfpack\n",
      "\n",
      "Number of nonzeros in constraint Jacobian............:      295\n",
      "Number of nonzeros in Lagrangian Hessian.............:      417\n",
      "\n",
      "Total number of variables............................:       60\n",
      "                     variables with only lower bounds:        0\n",
      "                variables with lower and upper bounds:       51\n",
      "                     variables with only upper bounds:        0\n",
      "Total number of equality constraints.................:       55\n",
      "Total number of inequality constraints...............:       27\n",
      "        inequality constraints with only lower bounds:        0\n",
      "   inequality constraints with lower and upper bounds:        9\n",
      "        inequality constraints with only upper bounds:       18\n",
      "\n",
      "iter    objective    inf_pr   inf_du lg(mu)  ||d||  lg(rg) alpha_du alpha_pr  ls\n",
      "   0  5.4455294e+03 1.63e+00 3.93e+00  -1.0 0.00e+00    -  0.00e+00 0.00e+00   0\n",
      "   1  5.2194864e+03 1.70e+00 3.27e+00  -1.0 1.30e+00    -  6.68e-01 1.00e+00h  1\n",
      "   2  5.3060363e+03 1.89e-02 2.92e-01  -1.0 1.79e+00    -  1.00e+00 1.00e+00h  1\n",
      "   3  5.3024154e+03 1.87e-03 4.62e-02  -1.7 4.32e-02    -  1.00e+00 1.00e+00h  1\n",
      "   4  5.2970878e+03 2.91e-03 4.27e-02  -2.5 4.33e-02    -  1.00e+00 1.00e+00h  1\n",
      "   5  5.2968997e+03 1.39e-04 1.11e-03  -2.5 1.18e-02    -  1.00e+00 1.00e+00h  1\n",
      "   6  5.2967027e+03 2.38e-04 1.88e-01  -3.8 1.86e-02    -  1.00e+00 7.70e-01h  1\n",
      "   7  5.2967013e+03 6.26e-05 9.52e-03  -3.8 7.91e-03    -  9.89e-01 1.00e+00h  1\n",
      "   8  5.2966993e+03 3.99e-06 1.02e-05  -3.8 2.00e-03    -  1.00e+00 1.00e+00h  1\n",
      "   9  5.2966867e+03 3.81e-06 4.63e-03  -8.6 1.99e-03    -  9.96e-01 9.57e-01h  1\n",
      "iter    objective    inf_pr   inf_du lg(mu)  ||d||  lg(rg) alpha_du alpha_pr  ls\n",
      "  10  5.2966862e+03 1.77e-07 9.17e-06  -8.6 4.17e-04    -  1.00e+00 9.99e-01h  1\n",
      "  11  5.2966862e+03 1.14e-10 3.97e-10  -8.6 1.07e-05    -  1.00e+00 1.00e+00h  1\n",
      "\n",
      "Number of Iterations....: 11\n",
      "\n",
      "                                   (scaled)                 (unscaled)\n",
      "Objective...............:   1.8321294370256518e+02    5.2966862024411594e+03\n",
      "Dual infeasibility......:   3.9659065558777334e-10    1.1465435853042529e-08\n",
      "Constraint violation....:   1.1385825615661815e-10    1.1385825615661815e-10\n",
      "Complementarity.........:   1.0214318304728503e-10    2.9529594218970105e-09\n",
      "Overall NLP error.......:   2.9529594218970105e-09    2.9529594218970105e-09\n",
      "\n",
      "Number of objective function evaluations             = 12\n",
      "Number of objective gradient evaluations             = 12\n",
      "Number of constraint evaluations                     = 12\n",
      "Number of constraint Jacobian evaluations            = 12\n",
      "Number of Lagrangian Hessian evaluations             = 11\n",
      "Total wall-clock secs in solver (w/o fun. eval./lin. alg.)  =  0.001\n",
      "Total wall-clock secs in linear solver                      =  0.028\n",
      "Total wall-clock secs in NLP function evaluations           =  0.000\n",
      "Total wall-clock secs                                       =  0.029\n",
      "\n",
      "EXIT: Optimal Solution Found (tol = 1.0e-08).\n"
     ]
    }
   ],
   "cell_type": "code",
   "source": [
    "using MadNLP\n",
    "\n",
    "nlp = acopf_model(data)\n",
    "results = madnlp(nlp)\n",
    "nothing"
   ],
   "metadata": {},
   "execution_count": 4
  },
  {
   "cell_type": "markdown",
   "source": [
    "## Solving optimal power flow on the GPU\n",
    "For solving the optimal power flow model on the GPU, the set-up is similar to\n",
    "what we have detailed in the tutorial 3. We start by importing MadNLPGPU, and we\n",
    "instantiate a new optimal power flow instance on the GPU:"
   ],
   "metadata": {}
  },
  {
   "outputs": [
    {
     "output_type": "execute_result",
     "data": {
      "text/plain": "An ExaModel{Float64, CUDA.CuArray{Float64, 1, CUDA.DeviceMemory}, ...}\n\n  Problem name: Generic\n   All variables: ████████████████████ 60     All constraints: ████████████████████ 82    \n            free: ███⋅⋅⋅⋅⋅⋅⋅⋅⋅⋅⋅⋅⋅⋅⋅⋅⋅ 9                 free: ⋅⋅⋅⋅⋅⋅⋅⋅⋅⋅⋅⋅⋅⋅⋅⋅⋅⋅⋅⋅ 0     \n           lower: ⋅⋅⋅⋅⋅⋅⋅⋅⋅⋅⋅⋅⋅⋅⋅⋅⋅⋅⋅⋅ 0                lower: ⋅⋅⋅⋅⋅⋅⋅⋅⋅⋅⋅⋅⋅⋅⋅⋅⋅⋅⋅⋅ 0     \n           upper: ⋅⋅⋅⋅⋅⋅⋅⋅⋅⋅⋅⋅⋅⋅⋅⋅⋅⋅⋅⋅ 0                upper: █████⋅⋅⋅⋅⋅⋅⋅⋅⋅⋅⋅⋅⋅⋅⋅ 18    \n         low/upp: █████████████████⋅⋅⋅ 51             low/upp: ███⋅⋅⋅⋅⋅⋅⋅⋅⋅⋅⋅⋅⋅⋅⋅⋅⋅ 9     \n           fixed: ⋅⋅⋅⋅⋅⋅⋅⋅⋅⋅⋅⋅⋅⋅⋅⋅⋅⋅⋅⋅ 0                fixed: ██████████████⋅⋅⋅⋅⋅⋅ 55    \n          infeas: ⋅⋅⋅⋅⋅⋅⋅⋅⋅⋅⋅⋅⋅⋅⋅⋅⋅⋅⋅⋅ 0               infeas: ⋅⋅⋅⋅⋅⋅⋅⋅⋅⋅⋅⋅⋅⋅⋅⋅⋅⋅⋅⋅ 0     \n            nnzh: ( 77.21% sparsity)   417             linear: ⋅⋅⋅⋅⋅⋅⋅⋅⋅⋅⋅⋅⋅⋅⋅⋅⋅⋅⋅⋅ 0     \n                                                    nonlinear: ████████████████████ 82    \n                                                         nnzj: ( 94.00% sparsity)   295   \n\n"
     },
     "metadata": {},
     "execution_count": 5
    }
   ],
   "cell_type": "code",
   "source": [
    "using CUDA\n",
    "using MadNLPGPU\n",
    "\n",
    "nlp_gpu = acopf_model(data; backend=CUDABackend())"
   ],
   "metadata": {},
   "execution_count": 5
  },
  {
   "cell_type": "markdown",
   "source": [
    "Solving the problem using cuDSS simply amounts to"
   ],
   "metadata": {}
  },
  {
   "outputs": [
    {
     "name": "stdout",
     "output_type": "stream",
     "text": [
      "This is MadNLP version v0.8.7, running with cuDSS v0.4.0\n",
      "\n",
      "Number of nonzeros in constraint Jacobian............:      295\n",
      "Number of nonzeros in Lagrangian Hessian.............:      417\n",
      "\n",
      "Total number of variables............................:       60\n",
      "                     variables with only lower bounds:        0\n",
      "                variables with lower and upper bounds:       51\n",
      "                     variables with only upper bounds:        0\n",
      "Total number of equality constraints.................:       55\n",
      "Total number of inequality constraints...............:       27\n",
      "        inequality constraints with only lower bounds:        0\n",
      "   inequality constraints with lower and upper bounds:        9\n",
      "        inequality constraints with only upper bounds:       18\n",
      "\n",
      "iter    objective    inf_pr   inf_du lg(mu)  ||d||  lg(rg) alpha_du alpha_pr  ls\n",
      "   0  5.4455294e+03 1.63e+00 1.00e+02  -1.0 0.00e+00    -  0.00e+00 0.00e+00   0\n",
      "   1  5.4455293e+03 1.63e+00 9.28e-03  -1.0 1.44e+00    -  6.45e-01 2.00e-07h  2\n",
      "   2  5.2160111e+03 1.80e+00 2.13e-03  -1.0 1.34e+00  -4.0 9.03e-01 1.00e+00h  1\n",
      "   3  5.3068588e+03 2.26e-02 1.49e-04  -1.0 1.79e+00    -  1.00e+00 1.00e+00h  1\n",
      "   4  5.3041411e+03 4.16e-03 1.40e-03  -3.8 6.42e-02    -  8.68e-01 1.00e+00h  1\n",
      "   5  5.2964909e+03 6.01e-03 9.16e-04  -3.8 9.96e-02    -  7.23e-01 7.75e-01h  1\n",
      "   6  5.2964464e+03 3.89e-03 6.19e-03  -3.8 6.69e-02    -  7.79e-01 4.78e-01h  1\n",
      "   7  5.2965279e+03 1.94e-03 1.93e-02  -3.8 3.05e-02    -  1.00e+00 5.76e-01h  1\n",
      "   8  5.2966948e+03 1.41e-04 1.63e-03  -3.8 1.19e-02    -  9.53e-01 1.00e+00h  1\n",
      "   9  5.2966992e+03 7.75e-07 8.89e-08  -3.8 8.80e-04    -  1.00e+00 1.00e+00h  1\n",
      "\n",
      "Number of Iterations....: 9\n",
      "\n",
      "                                   (scaled)                 (unscaled)\n",
      "Objective...............:   1.8321339409914927e+02    5.2966992234064055e+03\n",
      "Dual infeasibility......:   8.8881135750863090e-08    2.5695536345574519e-06\n",
      "Constraint violation....:   7.7450998414718697e-07    7.7450998414718697e-07\n",
      "Complementarity.........:   1.5839431095218668e-07    4.5791795296277174e-06\n",
      "Overall NLP error.......:   4.5791795296277174e-06    4.5791795296277174e-06\n",
      "\n",
      "Number of objective function evaluations             = 11\n",
      "Number of objective gradient evaluations             = 10\n",
      "Number of constraint evaluations                     = 11\n",
      "Number of constraint Jacobian evaluations            = 10\n",
      "Number of Lagrangian Hessian evaluations             = 9\n",
      "Total wall-clock secs in solver (w/o fun. eval./lin. alg.)  =  0.030\n",
      "Total wall-clock secs in linear solver                      =  0.006\n",
      "Total wall-clock secs in NLP function evaluations           =  0.006\n",
      "Total wall-clock secs                                       =  0.043\n",
      "\n",
      "EXIT: Optimal Solution Found (tol = 1.0e-04).\n"
     ]
    }
   ],
   "cell_type": "code",
   "source": [
    "results = madnlp(nlp_gpu)\n",
    "nothing"
   ],
   "metadata": {},
   "execution_count": 6
  },
  {
   "cell_type": "markdown",
   "source": [
    "The instance `case9` is too small to get any significant speed-up compared\n",
    "to the CPU. However, we can solve a larger instance just by importing new data:\n",
    "For instance, to solve the case `10000_goc`:"
   ],
   "metadata": {}
  },
  {
   "outputs": [
    {
     "name": "stdout",
     "output_type": "stream",
     "text": [
      "This is MadNLP version v0.8.7, running with cuDSS v0.4.0\n",
      "\n",
      "Number of nonzeros in constraint Jacobian............:   419823\n",
      "Number of nonzeros in Lagrangian Hessian.............:   602508\n",
      "\n",
      "Total number of variables............................:    76804\n",
      "                     variables with only lower bounds:        0\n",
      "                variables with lower and upper bounds:    66804\n",
      "                     variables with only upper bounds:        0\n",
      "Total number of equality constraints.................:    72773\n",
      "Total number of inequality constraints...............:    39579\n",
      "        inequality constraints with only lower bounds:        0\n",
      "   inequality constraints with lower and upper bounds:    13193\n",
      "        inequality constraints with only upper bounds:    26386\n",
      "\n",
      "iter    objective    inf_pr   inf_du lg(mu)  ||d||  lg(rg) alpha_du alpha_pr  ls\n",
      "   0  3.0503288e+06 8.97e+00 1.00e+02  -1.0 0.00e+00    -  0.00e+00 0.00e+00   0\n",
      "   1  3.0503288e+06 8.97e+00 4.39e-02  -1.0 1.99e+01    -  5.52e-02 2.71e-08h  1\n",
      "   2  2.7096523e+06 8.10e+00 1.44e-02  -1.0 1.82e+01  -4.0 1.02e-01 9.77e-02h  1\n",
      "   3  2.3710599e+06 8.31e+00 4.77e-03  -1.0 7.04e+01  -4.5 2.86e-01 1.24e-01h  1\n",
      "   4  2.1763775e+06 1.17e+01 5.00e-03  -1.0 1.74e+02  -5.0 4.88e-01 1.03e-01h  1\n",
      "   5  1.8959815e+06 3.27e+01 3.67e-03  -1.0 2.97e+02  -5.4 3.42e-01 2.10e-01h  1\n",
      "   6  1.7928162e+06 3.43e+01 3.04e-03  -1.0 4.33e+02  -5.9 1.65e-01 1.33e-01h  1\n",
      "   7  1.7396065e+06 3.34e+01 2.47e-03  -1.0 4.65e+02  -6.4 2.01e-01 9.07e-02h  1\n",
      "   8  1.6836026e+06 3.27e+01 2.26e-03  -1.0 4.84e+02  -6.9 6.78e-02 1.16e-01h  1\n",
      "   9  1.6573350e+06 3.13e+01 1.59e-03  -1.0 4.72e+02  -7.3 2.59e-01 6.64e-02h  1\n",
      "iter    objective    inf_pr   inf_du lg(mu)  ||d||  lg(rg) alpha_du alpha_pr  ls\n",
      "  10  1.5850843e+06 3.24e+01 1.08e-03  -1.0 4.87e+02  -7.8 2.82e-01 2.11e-01h  1\n",
      "  11  1.5637061e+06 3.04e+01 7.51e-04  -1.0 4.51e+02  -8.3 2.66e-01 8.72e-02h  1\n",
      "  12  1.5156327e+06 2.83e+01 6.54e-04  -1.0 4.32e+02  -8.8 3.50e-01 2.24e-01h  1\n",
      "  13  1.4984659e+06 2.57e+01 1.54e-03  -1.0 3.43e+02  -9.2 2.80e-01 1.12e-01h  1\n",
      "  14  1.4797880e+06 2.25e+01 3.94e-03  -1.0 2.67e+02  -9.7 4.17e-01 1.48e-01h  1\n",
      "  15  1.4649841e+06 1.96e+01 4.89e-03  -1.0 2.22e+02 -10.2 3.62e-01 1.44e-01h  1\n",
      "  16  1.4415875e+06 1.50e+01 3.68e-03  -1.0 1.89e+02 -10.7 3.05e-01 2.76e-01h  1\n",
      "  17  1.4244147e+06 1.11e+01 3.60e-03  -1.0 1.38e+02 -11.2 5.87e-01 2.95e-01h  1\n",
      "  18  1.4154643e+06 8.69e+00 3.86e-03  -1.0 1.05e+02 -11.6 8.21e-01 2.30e-01h  1\n",
      "  19  1.3959788e+06 7.25e+00 2.06e-03  -1.0 9.12e+01 -12.1 9.90e-01 6.88e-01h  1\n",
      "iter    objective    inf_pr   inf_du lg(mu)  ||d||  lg(rg) alpha_du alpha_pr  ls\n",
      "  20  1.3897576e+06 3.12e+00 2.89e-03  -1.0 2.84e+01 -12.6 1.00e+00 7.59e-01h  1\n",
      "  21  1.3878610e+06 2.20e-01 4.42e-06  -1.0 6.04e+00 -13.1 1.00e+00 1.00e+00h  1\n",
      "  22  1.3770493e+06 1.20e+00 4.45e-03  -1.7 1.11e+02 -13.5 6.59e-01 5.61e-01h  1\n",
      "  23  1.3703365e+06 1.68e+00 1.96e-03  -1.7 1.10e+02 -14.0 5.32e-01 5.58e-01h  1\n",
      "  24  1.3666680e+06 1.19e+00 1.11e-03  -1.7 7.10e+01 -14.5 5.67e-01 5.66e-01h  1\n",
      "  25  1.3649877e+06 6.18e-01 7.82e-04  -1.7 3.34e+01 -15.0 4.68e-01 5.63e-01h  1\n",
      "  26  1.3635980e+06 6.04e-02 4.68e-03  -1.7 1.50e+01 -15.5 4.17e-01 1.00e+00h  1\n",
      "  27  1.3625196e+06 7.77e-02 1.81e-03  -2.5 7.41e+01 -15.9 2.35e-01 1.49e-01h  1\n",
      "  28  1.3607283e+06 1.39e-01 1.62e-02  -2.5 6.70e+01 -16.4 4.56e-01 2.72e-01h  1\n",
      "  29  1.3599916e+06 1.30e-01 2.05e-02  -2.5 4.71e+01 -16.9 2.18e-01 1.44e-01h  1\n",
      "iter    objective    inf_pr   inf_du lg(mu)  ||d||  lg(rg) alpha_du alpha_pr  ls\n",
      "  30  1.3592915e+06 1.16e-01 4.42e-02  -2.5 3.46e+01 -17.4 4.70e-01 1.65e-01h  1\n",
      "  31  1.3585848e+06 1.09e-01 3.64e-02  -2.5 2.70e+01 -17.8 1.35e-01 1.93e-01h  1\n",
      "  32  1.3577689e+06 1.89e-01 3.29e-02  -2.5 2.09e+01 -18.3 3.15e-01 2.74e-01h  1\n",
      "  33  1.3565842e+06 5.03e-01 1.67e-02  -2.5 1.23e+01 -18.8 4.71e-01 5.36e-01h  1\n",
      "  34  1.3562695e+06 3.91e-01 1.66e-02  -2.5 4.57e+00 -19.3 4.46e-01 3.02e-01h  1\n",
      "  35  1.3558235e+06 2.64e-01 1.42e-02  -2.5 2.76e+00 -19.7 1.00e+00 6.17e-01h  1\n",
      "  36  1.3555588e+06 5.54e-02 5.89e-06  -2.5 1.79e+00 -20.0 1.00e+00 1.00e+00h  1\n",
      "  37  1.3555597e+06 4.07e-03 5.14e-07  -2.5 2.82e-01 -20.0 1.00e+00 1.00e+00h  1\n",
      "  38  1.3552721e+06 8.38e-02 1.20e-02  -3.8 1.10e+01 -20.0 3.12e-01 1.96e-01f  1\n",
      "  39  1.3550469e+06 1.44e-01 5.83e-02  -3.8 1.06e+01 -20.0 4.79e-01 1.88e-01h  1\n",
      "iter    objective    inf_pr   inf_du lg(mu)  ||d||  lg(rg) alpha_du alpha_pr  ls\n",
      "  40  1.3547590e+06 2.47e-01 7.70e-02  -3.8 5.46e+00 -20.0 3.97e-01 2.87e-01h  1\n",
      "  41  1.3545528e+06 3.26e-01 6.07e-02  -3.8 5.27e+00 -20.0 2.29e-01 2.90e-01h  1\n",
      "  42  1.3544195e+06 3.17e-01 8.40e-02  -3.8 4.34e+00 -20.0 4.28e-01 2.68e-01h  1\n",
      "  43  1.3543252e+06 2.77e-01 1.13e-01  -3.8 3.43e+00 -20.0 4.27e-01 2.62e-01h  1\n",
      "  44  1.3543042e+06 2.56e-01 1.57e+00  -3.8 2.96e+00 -20.0 8.12e-01 8.47e-02h  1\n",
      "  45  1.3542029e+06 1.97e-01 8.51e-01  -3.8 2.89e+00 -20.0 7.82e-01 4.54e-01h  1\n",
      "  46  1.3541462e+06 1.10e-01 5.26e-01  -3.8 1.44e+00 -20.0 1.00e+00 5.05e-01h  1\n",
      "  47  1.3541022e+06 8.36e-02 7.35e-02  -3.8 7.12e-01 -20.0 1.00e+00 8.65e-01h  1\n",
      "  48  1.3540972e+06 8.78e-03 7.97e-06  -3.8 1.66e-01 -20.0 1.00e+00 1.00e+00h  1\n",
      "  49  1.3540970e+06 2.62e-04 1.47e-06  -3.8 1.08e-01 -20.0 1.00e+00 1.00e+00h  1\n",
      "iter    objective    inf_pr   inf_du lg(mu)  ||d||  lg(rg) alpha_du alpha_pr  ls\n",
      "  50  1.3540872e+06 6.26e-03 1.74e-01  -5.0 1.08e+00 -20.0 5.24e-01 1.48e-01h  1\n",
      "  51  1.3540661e+06 3.35e-02 2.15e-01  -5.0 1.08e+00 -20.0 5.26e-01 3.93e-01h  1\n",
      "  52  1.3540531e+06 3.71e-02 5.49e-01  -5.0 8.62e-01 -20.0 7.98e-01 4.07e-01h  1\n",
      "  53  1.3540445e+06 3.15e-02 5.68e-01  -5.0 6.23e-01 -20.0 8.24e-01 4.66e-01h  1\n",
      "  54  1.3540368e+06 1.65e-02 1.46e-01  -5.0 3.80e-01 -20.0 1.00e+00 8.08e-01h  1\n",
      "  55  1.3540351e+06 2.62e-03 4.37e-06  -5.0 7.48e-02 -20.0 1.00e+00 1.00e+00h  1\n",
      "  56  1.3540352e+06 1.26e-04 5.23e-07  -5.0 1.12e-02 -20.0 1.00e+00 1.00e+00h  1\n",
      "  57  1.3540351e+06 2.97e-06 1.14e-08  -5.0 1.72e-03 -20.0 1.00e+00 1.00e+00h  1\n",
      "\n",
      "Number of Iterations....: 57\n",
      "\n",
      "                                   (scaled)                 (unscaled)\n",
      "Objective...............:   1.1061716860256476e+04    1.3540351493116631e+06\n",
      "Dual infeasibility......:   1.1429020571167698e-08    1.3989958133143100e-06\n",
      "Constraint violation....:   2.9733637347817421e-06    2.9733637347817421e-06\n",
      "Complementarity.........:   1.4933096138934566e-08    1.8279203233646018e-06\n",
      "Overall NLP error.......:   2.9733637347817421e-06    2.9733637347817421e-06\n",
      "\n",
      "Number of objective function evaluations             = 58\n",
      "Number of objective gradient evaluations             = 58\n",
      "Number of constraint evaluations                     = 58\n",
      "Number of constraint Jacobian evaluations            = 58\n",
      "Number of Lagrangian Hessian evaluations             = 57\n",
      "Total wall-clock secs in solver (w/o fun. eval./lin. alg.)  =  0.770\n",
      "Total wall-clock secs in linear solver                      =  1.696\n",
      "Total wall-clock secs in NLP function evaluations           =  0.136\n",
      "Total wall-clock secs                                       =  2.601\n",
      "\n",
      "EXIT: Optimal Solution Found (tol = 1.0e-04).\n"
     ]
    }
   ],
   "cell_type": "code",
   "source": [
    "data = JLD2.load(joinpath(DATA_DIR, \"pglib_opf_case10000_goc.jld2\"))[\"data\"]\n",
    "nlp_gpu = acopf_model(data; backend=CUDABackend())\n",
    "results = madnlp(nlp_gpu)\n",
    "nothing"
   ],
   "metadata": {},
   "execution_count": 7
  },
  {
   "cell_type": "markdown",
   "source": [
    "---\n",
    "\n",
    "*This notebook was generated using [Literate.jl](https://github.com/fredrikekre/Literate.jl).*"
   ],
   "metadata": {}
  }
 ],
 "nbformat_minor": 3,
 "metadata": {
  "language_info": {
   "file_extension": ".jl",
   "mimetype": "application/julia",
   "name": "julia",
   "version": "1.11.5"
  },
  "kernelspec": {
   "name": "julia-1.11",
   "display_name": "Julia 1.11.5",
   "language": "julia"
  }
 },
 "nbformat": 4
}
